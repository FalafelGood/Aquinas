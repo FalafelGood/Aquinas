{
 "cells": [
  {
   "cell_type": "code",
   "execution_count": 1,
   "metadata": {},
   "outputs": [],
   "source": [
    "import numpy as np\n",
    "import interferometer as itf\n",
    "from matplotlib import pyplot as plt\n",
    "from qiskit.visualization import plot_histogram\n",
    "from interferometer_circuits.numeric_truncated_unitaries import *\n",
    "from interferometer_circuits.direct_decomposition import *\n",
    "from interferometer_circuits.boson_sampling_probabilities import *\n",
    "from interferometer_circuits.simulation import *\n",
    "from qiskit.quantum_info import Operator"
   ]
  },
  {
   "cell_type": "code",
   "execution_count": 9,
   "metadata": {},
   "outputs": [
    {
     "name": "stdout",
     "output_type": "stream",
     "text": [
      "0.24719578261170727 0.24719578261171068\n",
      "3.4139358007223564e-15\n"
     ]
    }
   ],
   "source": [
    "# Test 1: \n",
    "\n",
    "# Parameters\n",
    "num_photons = 3\n",
    "input_config = [2,1,0]\n",
    "out_config = [2,1,0]\n",
    "U = np.load(\"3x3unitary.npy\")\n",
    "\n",
    "# Calcs\n",
    "interferometer_circuit = direct_decomposition(U, num_photons)\n",
    "sv_in = statevector_from_config(input_config)\n",
    "sv_out = statevector_from_config(out_config)\n",
    "circuit_unitary = Operator(interferometer_circuit).data\n",
    "circuit_prob = np.abs((np.transpose(np.conjugate(sv_out)) @ circuit_unitary @ sv_in)[0][0])**2\n",
    "true_prob = output_probability(input_config, out_config, U)\n",
    "\n",
    "print(circuit_prob, true_prob)\n",
    "print(np.abs(circuit_prob - true_prob))"
   ]
  },
  {
   "cell_type": "code",
   "execution_count": 10,
   "metadata": {},
   "outputs": [
    {
     "name": "stdout",
     "output_type": "stream",
     "text": [
      "0.01674576574225382 0.016745765742247662\n",
      "6.158268339717665e-15\n"
     ]
    }
   ],
   "source": [
    "# Test 2: \n",
    "\n",
    "# Parameters\n",
    "num_photons = 2\n",
    "input_config = [2,0,0,0,0]\n",
    "out_config = [2,0,0,0,0]\n",
    "U = np.load(\"5x5unitary.npy\")\n",
    "\n",
    "# Calcs\n",
    "interferometer_circuit = direct_decomposition(U, num_photons)\n",
    "sv_in = statevector_from_config(input_config)\n",
    "sv_out = statevector_from_config(out_config)\n",
    "circuit_unitary = Operator(interferometer_circuit).data\n",
    "circuit_prob = np.abs((np.transpose(np.conjugate(sv_out)) @ circuit_unitary @ sv_in)[0][0])**2\n",
    "true_prob = output_probability(input_config, out_config, U)\n",
    "\n",
    "print(circuit_prob, true_prob)\n",
    "print(np.abs(circuit_prob - true_prob))"
   ]
  }
 ],
 "metadata": {
  "kernelspec": {
   "display_name": "graph_env",
   "language": "python",
   "name": "python3"
  },
  "language_info": {
   "codemirror_mode": {
    "name": "ipython",
    "version": 3
   },
   "file_extension": ".py",
   "mimetype": "text/x-python",
   "name": "python",
   "nbconvert_exporter": "python",
   "pygments_lexer": "ipython3",
   "version": "3.10.14"
  }
 },
 "nbformat": 4,
 "nbformat_minor": 2
}
