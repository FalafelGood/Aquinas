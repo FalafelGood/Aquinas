{
 "cells": [
  {
   "cell_type": "code",
   "execution_count": 1,
   "metadata": {},
   "outputs": [
    {
     "ename": "ModuleNotFoundError",
     "evalue": "No module named 'Aquinas'",
     "output_type": "error",
     "traceback": [
      "\u001b[0;31m---------------------------------------------------------------------------\u001b[0m",
      "\u001b[0;31mModuleNotFoundError\u001b[0m                       Traceback (most recent call last)",
      "Cell \u001b[0;32mIn [1], line 5\u001b[0m\n\u001b[1;32m      3\u001b[0m \u001b[38;5;28;01mfrom\u001b[39;00m \u001b[38;5;21;01mmatplotlib\u001b[39;00m \u001b[38;5;28;01mimport\u001b[39;00m pyplot \u001b[38;5;28;01mas\u001b[39;00m plt\n\u001b[1;32m      4\u001b[0m \u001b[38;5;28;01mfrom\u001b[39;00m \u001b[38;5;21;01mqiskit\u001b[39;00m\u001b[38;5;21;01m.\u001b[39;00m\u001b[38;5;21;01mvisualization\u001b[39;00m \u001b[38;5;28;01mimport\u001b[39;00m plot_histogram\n\u001b[0;32m----> 5\u001b[0m \u001b[38;5;28;01mfrom\u001b[39;00m \u001b[38;5;21;01mAquinas\u001b[39;00m\u001b[38;5;21;01m.\u001b[39;00m\u001b[38;5;21;01mnumeric_truncated_unitaries\u001b[39;00m \u001b[38;5;28;01mimport\u001b[39;00m \u001b[38;5;241m*\u001b[39m\n\u001b[1;32m      6\u001b[0m \u001b[38;5;28;01mfrom\u001b[39;00m \u001b[38;5;21;01mAquinas\u001b[39;00m\u001b[38;5;21;01m.\u001b[39;00m\u001b[38;5;21;01mdirect_decomposition\u001b[39;00m \u001b[38;5;28;01mimport\u001b[39;00m \u001b[38;5;241m*\u001b[39m\n\u001b[1;32m      7\u001b[0m \u001b[38;5;28;01mfrom\u001b[39;00m \u001b[38;5;21;01mAquinas\u001b[39;00m\u001b[38;5;21;01m.\u001b[39;00m\u001b[38;5;21;01mboson_sampling_probabilities\u001b[39;00m \u001b[38;5;28;01mimport\u001b[39;00m \u001b[38;5;241m*\u001b[39m\n",
      "\u001b[0;31mModuleNotFoundError\u001b[0m: No module named 'Aquinas'"
     ]
    }
   ],
   "source": [
    "import numpy as np\n",
    "import interferometer as itf\n",
    "from matplotlib import pyplot as plt\n",
    "from qiskit.visualization import plot_histogram\n",
    "from Aquinas.numeric_truncated_unitaries import *\n",
    "from Aquinas.direct_decomposition import *\n",
    "from Aquinas.boson_sampling_probabilities import *\n",
    "from Aquinas.simulation import *\n",
    "from qiskit.quantum_info import Operator\n",
    "from scipy import optimize"
   ]
  },
  {
   "cell_type": "code",
   "execution_count": 3,
   "metadata": {},
   "outputs": [
    {
     "name": "stdout",
     "output_type": "stream",
     "text": [
      "5\n",
      "2\n"
     ]
    }
   ],
   "source": [
    "num_modes = 2\n",
    "num_photons = 1\n",
    "U = random_unitary(num_modes)\n",
    "circuit = direct_decomposition(U, num_photons)\n",
    "print(circuit.depth())\n",
    "print(circuit.num_qubits)"
   ]
  },
  {
   "cell_type": "code",
   "execution_count": 7,
   "metadata": {},
   "outputs": [
    {
     "name": "stdout",
     "output_type": "stream",
     "text": [
      "979973\n",
      "10\n"
     ]
    }
   ],
   "source": [
    "num_modes = 2\n",
    "num_photons = 16\n",
    "U = random_unitary(num_modes)\n",
    "circuit = direct_decomposition(U, num_photons)\n",
    "print(circuit.depth())\n",
    "print(circuit.num_qubits)"
   ]
  },
  {
   "cell_type": "code",
   "execution_count": null,
   "metadata": {},
   "outputs": [
    {
     "data": {
      "image/png": "[encoded data removed]",
      "text/plain": [
       "<Figure size 432x288 with 1 Axes>"
      ]
     },
     "metadata": {
      "needs_background": "light"
     },
     "output_type": "display_data"
    }
   ],
   "source": [
    "num_photons = [1,2,4,8,16]\n",
    "circuit_depths = [5,197,3653,60677,979973]\n",
    "# plt.loglog(num_photons, circuit_depths)\n",
    "x = np.linspace(1.01,16,num=100)\n",
    "x4 = x**4\n",
    "x4log = x**4 * np.log(x)\n",
    "\n",
    "plt.grid(which=\"both\", alpha=0.4)\n",
    "plt.scatter(num_photons, circuit_depths, zorder=2)\n",
    "plt.plot(x, x4log, label='$n^4 \\: \\log(n)$', color=\"orange\")\n",
    "plt.yscale('log')\n",
    "plt.xlabel(\"Number of photons ($n$)\")\n",
    "plt.ylabel(\"Beamsplitter circuit depth\")\n",
    "# plt.legend()\n",
    "plt.savefig(fname=\"plots/circuit_scaling.png\", dpi=300, \n",
    "            format=\"png\")"
   ]
  }
 ],
 "metadata": {
  "kernelspec": {
   "display_name": "graph_env",
   "language": "python",
   "name": "python3"
  },
  "language_info": {
   "codemirror_mode": {
    "name": "ipython",
    "version": 3
   },
   "file_extension": ".py",
   "mimetype": "text/x-python",
   "name": "python",
   "nbconvert_exporter": "python",
   "pygments_lexer": "ipython3",
   "version": "3.10.14"
  }
 },
 "nbformat": 4,
 "nbformat_minor": 2
}
