{
 "cells": [
  {
   "cell_type": "code",
   "execution_count": 1,
   "metadata": {},
   "outputs": [],
   "source": [
    "import numpy as np\n",
    "import interferometer as itf\n",
    "from matplotlib import pyplot as plt\n",
    "from qiskit.visualization import plot_histogram\n",
    "from interferometer_circuits.numeric_truncated_unitaries import *\n",
    "from interferometer_circuits.direct_decomposition import *\n",
    "from interferometer_circuits.boson_sampling_probabilities import *\n",
    "from interferometer_circuits.simulation import *\n",
    "from qiskit.quantum_info import Operator"
   ]
  },
  {
   "cell_type": "code",
   "execution_count": 3,
   "metadata": {},
   "outputs": [
    {
     "name": "stdout",
     "output_type": "stream",
     "text": [
      "591\n",
      "6\n"
     ]
    }
   ],
   "source": [
    "num_modes = 3\n",
    "num_photons = 2\n",
    "U = random_unitary(num_modes)\n",
    "circuit = direct_decomposition(U, num_photons)\n",
    "print(circuit.depth())\n",
    "print(circuit.num_qubits)"
   ]
  },
  {
   "cell_type": "code",
   "execution_count": 6,
   "metadata": {},
   "outputs": [
    {
     "name": "stdout",
     "output_type": "stream",
     "text": [
      "569\n",
      "6\n"
     ]
    }
   ],
   "source": [
    "num_modes = 3\n",
    "num_photons = 3\n",
    "U = random_unitary(num_modes)\n",
    "circuit = direct_decomposition(U, num_photons)\n",
    "print(circuit.depth())\n",
    "print(circuit.num_qubits)"
   ]
  },
  {
   "cell_type": "code",
   "execution_count": null,
   "metadata": {},
   "outputs": [],
   "source": []
  }
 ],
 "metadata": {
  "kernelspec": {
   "display_name": "graph_env",
   "language": "python",
   "name": "python3"
  },
  "language_info": {
   "codemirror_mode": {
    "name": "ipython",
    "version": 3
   },
   "file_extension": ".py",
   "mimetype": "text/x-python",
   "name": "python",
   "nbconvert_exporter": "python",
   "pygments_lexer": "ipython3",
   "version": "3.10.14"
  }
 },
 "nbformat": 4,
 "nbformat_minor": 2
}
