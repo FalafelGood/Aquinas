{
 "cells": [
  {
   "cell_type": "code",
   "execution_count": 1,
   "metadata": {},
   "outputs": [],
   "source": [
    "import numpy as np\n",
    "from qiskit.visualization import plot_histogram\n",
    "import interferometer as itf\n",
    "from interferometer_circuits.numeric_truncated_unitaries import *\n",
    "from interferometer_circuits.direct_decomposition import *\n",
    "from interferometer_circuits.boson_sampling_probabilities import *\n",
    "from interferometer_circuits.simulation import *\n",
    "from qiskit.quantum_info import Operator"
   ]
  },
  {
   "cell_type": "code",
   "execution_count": 3,
   "metadata": {},
   "outputs": [
    {
     "name": "stdout",
     "output_type": "stream",
     "text": [
      "[[ 0.22767121-0.10396411j  0.0234804 +0.09468471j  0.51797259+0.42659112j\n",
      "  -0.46553219+0.18412032j  0.47503009-0.03593138j]\n",
      " [ 0.08224722-0.28576093j  0.14221222-0.44555082j -0.10733227-0.14249324j\n",
      "   0.03857758+0.44242938j  0.14152655+0.66614559j]\n",
      " [ 0.31150999-0.65054868j -0.31570056-0.03846894j -0.24108216-0.28451941j\n",
      "  -0.35144616-0.30216412j  0.01081417-0.15682739j]\n",
      " [ 0.43576681-0.11799511j -0.46824558+0.22972759j  0.01163198+0.34262516j\n",
      "   0.36763108+0.37499248j -0.36044494+0.03059292j]\n",
      " [-0.01753315+0.35292822j -0.43232595+0.46006794j  0.06427453-0.50711878j\n",
      "  -0.21846177+0.11761134j  0.16775794+0.35435103j]]\n"
     ]
    }
   ],
   "source": [
    "U = random_unitary(5)\n",
    "print(U)"
   ]
  },
  {
   "cell_type": "code",
   "execution_count": 4,
   "metadata": {},
   "outputs": [],
   "source": [
    "num_photons = 2\n",
    "interferometer_circuit = direct_decomposition(U, 2)"
   ]
  },
  {
   "cell_type": "code",
   "execution_count": 10,
   "metadata": {},
   "outputs": [
    {
     "name": "stdout",
     "output_type": "stream",
     "text": [
      "0.03665687350929737\n",
      "0.03665687350929761\n"
     ]
    }
   ],
   "source": [
    "input_config = [1,0,0,1,0]\n",
    "output_config = [1,0,0,1,0]\n",
    "prob = circuit_sampling_probability(input_config, output_config, interferometer_circuit)\n",
    "expected_prob = output_probability(input_config, output_config, U)\n",
    "print(prob)\n",
    "print(expected_prob)"
   ]
  },
  {
   "cell_type": "code",
   "execution_count": 9,
   "metadata": {},
   "outputs": [
    {
     "data": {
      "text/plain": [
       "10"
      ]
     },
     "execution_count": 9,
     "metadata": {},
     "output_type": "execute_result"
    }
   ],
   "source": [
    "interferometer_circuit.depth()\n",
    "interferometer_circuit.num_qubits"
   ]
  },
  {
   "cell_type": "code",
   "execution_count": null,
   "metadata": {},
   "outputs": [],
   "source": []
  }
 ],
 "metadata": {
  "kernelspec": {
   "display_name": "graph_env",
   "language": "python",
   "name": "python3"
  },
  "language_info": {
   "codemirror_mode": {
    "name": "ipython",
    "version": 3
   },
   "file_extension": ".py",
   "mimetype": "text/x-python",
   "name": "python",
   "nbconvert_exporter": "python",
   "pygments_lexer": "ipython3",
   "version": "3.10.14"
  }
 },
 "nbformat": 4,
 "nbformat_minor": 2
}
