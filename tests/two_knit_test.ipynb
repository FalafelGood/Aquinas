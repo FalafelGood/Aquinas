{
 "cells": [
  {
   "cell_type": "code",
   "execution_count": 12,
   "metadata": {},
   "outputs": [],
   "source": [
    "import numpy as np\n",
    "import sys\n",
    "from qiskit import QuantumCircuit, transpile\n",
    "from qiskit_aer import AerSimulator\n",
    "from qiskit.visualization import plot_histogram\n",
    "import interferometer as itf\n",
    "sys.path.append('../') # Add parent directory to the system path\n",
    "from boson_sampling_probabilities import output_probability\n",
    "from direct_decomposition import direct_decomposition, random_unitary\n",
    "from simulation import run_interferom_simulation\n",
    "\n",
    "from numeric_truncated_unitaries import numeric_truncated_unitary\n",
    "from direct_decomposition import round_complex_matrix, compile_unitary, knit_qiskit_circuits"
   ]
  },
  {
   "cell_type": "code",
   "execution_count": 13,
   "metadata": {},
   "outputs": [],
   "source": [
    "I = itf.Interferometer()\n",
    "BS1 = itf.Beamsplitter(1, 2, theta=np.pi/4, phi=0)\n",
    "BS2 = itf.Beamsplitter(2, 3, theta=np.pi/3, phi=0)\n",
    "I.add_BS(BS1)\n",
    "I.add_BS(BS2)"
   ]
  },
  {
   "cell_type": "code",
   "execution_count": 3,
   "metadata": {},
   "outputs": [
    {
     "data": {
      "image/png": "[encoded data removed]",
      "text/plain": [
       "<Figure size 640x480 with 1 Axes>"
      ]
     },
     "metadata": {},
     "output_type": "display_data"
    }
   ],
   "source": [
    "I.draw()"
   ]
  },
  {
   "cell_type": "code",
   "execution_count": 14,
   "metadata": {},
   "outputs": [
    {
     "name": "stdout",
     "output_type": "stream",
     "text": [
      "[[ 0.70710678+0.j -0.70710678+0.j  0.        +0.j]\n",
      " [ 0.35355339+0.j  0.35355339+0.j -0.8660254 +0.j]\n",
      " [ 0.61237244+0.j  0.61237244+0.j  0.5       +0.j]]\n"
     ]
    }
   ],
   "source": [
    "U=I.calculate_transformation()\n",
    "print(U)"
   ]
  },
  {
   "cell_type": "code",
   "execution_count": 15,
   "metadata": {},
   "outputs": [],
   "source": [
    "m = U.shape[0]\n",
    "circuits = []\n",
    "for BS in I.BS_list:\n",
    "    U_BS = numeric_truncated_unitary(BS.theta, BS.phi, 1)\n",
    "    round_complex_matrix(U_BS) # Is this step necessary?\n",
    "    circuits.append(compile_unitary(U_BS)) # Compile individual unitaries into quantum circuits"
   ]
  },
  {
   "cell_type": "code",
   "execution_count": 16,
   "metadata": {},
   "outputs": [],
   "source": [
    "big_circuit = knit_qiskit_circuits(3, BS_list=I.BS_list, circuits=circuits)"
   ]
  },
  {
   "cell_type": "code",
   "execution_count": 66,
   "metadata": {},
   "outputs": [
    {
     "name": "stdout",
     "output_type": "stream",
     "text": [
      "        ┌───────────────────┐            ┌──────────────────┐        »\n",
      "q_0: ───┤ U3(π/2,π/2,-3π/8) ├─────■──────┤ U3(3π/4,-π,-π/2) ├─────■──»\n",
      "       ┌┴───────────────────┴─┐ ┌─┴─┐┌───┴──────────────────┴──┐┌─┴─┐»\n",
      "q_1: ──┤ U3(3.1403,π/2,-7π/8) ├─┤ X ├┤ U3(1.5712,1π/4,-1.5699) ├┤ X ├»\n",
      "     ┌─┴──────────────────────┴┐└───┘└─────────────────────────┘└───┘»\n",
      "q_2: ┤ U3(0.0013233,-π/2,3π/8) ├─────────────────────────────────────»\n",
      "     └─────────────────────────┘                                     »\n",
      "«       ┌─────────────────┐      ┌────────────┐        »\n",
      "«q_0: ──┤ U3(π/2,3π/8,-π) ├──────┤ U1(-1.963) ├────────»\n",
      "«     ┌─┴─────────────────┴─┐┌───┴────────────┴──┐     »\n",
      "«q_1: ┤ U3(1.5695,-π/8,π/2) ├┤ U3(π/2,-π/2,7π/8) ├──■──»\n",
      "«     └─────────────────────┘└───────────────────┘┌─┴─┐»\n",
      "«q_2: ────────────────────────────────────────────┤ X ├»\n",
      "«                                                 └───┘»\n",
      "«                                                                              \n",
      "«q_0: ─────────────────────────────────────────────────────────────────────────\n",
      "«          ┌──────────────────┐           ┌─────────────────┐   ┌─────────────┐\n",
      "«q_1: ─────┤ U3(2π/3,-π,-π/2) ├──────■────┤ U3(π/2,-7π/8,0) ├───┤ U1(-5.2354) ├\n",
      "«     ┌────┴──────────────────┴───┐┌─┴─┐┌─┴─────────────────┴──┐└─────────────┘\n",
      "«q_2: ┤ U3(1.5715,0.5236,-1.5697) ├┤ X ├┤ U3(1.5721,5π/8,-π/2) ├───────────────\n",
      "«     └───────────────────────────┘└───┘└──────────────────────┘               \n"
     ]
    }
   ],
   "source": [
    "print(big_circuit)"
   ]
  },
  {
   "cell_type": "code",
   "execution_count": 56,
   "metadata": {},
   "outputs": [
    {
     "name": "stdout",
     "output_type": "stream",
     "text": [
      "         ┌───────────────────┐               ┌──────────────────┐         »\n",
      "q_0: ────┤ U3(π/2,-π/2,5π/8) ├───────■───────┤ U3(2π/3,-π,-π/2) ├──────■──»\n",
      "     ┌───┴───────────────────┴────┐┌─┴─┐┌────┴──────────────────┴───┐┌─┴─┐»\n",
      "q_1: ┤ U3(0.0013233,-π/2,-0.6545) ├┤ X ├┤ U3(1.5715,0.5236,-1.5697) ├┤ X ├»\n",
      "     └────────────────────────────┘└───┘└───────────────────────────┘└───┘»\n",
      "«         ┌─────────────────┐    ┌─────────────┐\n",
      "«q_0: ────┤ U3(π/2,-5π/8,0) ├────┤ U1(-5.2354) ├\n",
      "«     ┌───┴─────────────────┴───┐└─────────────┘\n",
      "«q_1: ┤ U3(1.5721,-2.4871,-π/2) ├───────────────\n",
      "«     └─────────────────────────┘               \n"
     ]
    }
   ],
   "source": [
    "print(circuits[1])"
   ]
  },
  {
   "cell_type": "code",
   "execution_count": 20,
   "metadata": {},
   "outputs": [],
   "source": [
    "counts = run_interferom_simulation(U, [0,0,1], 1e7)"
   ]
  },
  {
   "cell_type": "code",
   "execution_count": 21,
   "metadata": {},
   "outputs": [
    {
     "name": "stdout",
     "output_type": "stream",
     "text": [
      "{'010': 0.1251025, '100': 0.3749173, '001': 0.4999802}\n"
     ]
    }
   ],
   "source": [
    "print(counts)"
   ]
  },
  {
   "cell_type": "code",
   "execution_count": 22,
   "metadata": {},
   "outputs": [
    {
     "name": "stdout",
     "output_type": "stream",
     "text": [
      "P [1, 0, 0] = 0.5000000000000001\n",
      "P [0, 1, 0] = 0.12500000000000003\n",
      "P [0, 0, 1] = 0.37499999999999994\n"
     ]
    }
   ],
   "source": [
    "output_states = [[1,0,0],[0,1,0],[0,0,1]]\n",
    "for state in output_states:\n",
    "    print(f\"P {state} = {output_probability([1,0,0], state, U)}\")"
   ]
  },
  {
   "cell_type": "code",
   "execution_count": null,
   "metadata": {},
   "outputs": [],
   "source": []
  }
 ],
 "metadata": {
  "kernelspec": {
   "display_name": "graph_env",
   "language": "python",
   "name": "python3"
  },
  "language_info": {
   "codemirror_mode": {
    "name": "ipython",
    "version": 3
   },
   "file_extension": ".py",
   "mimetype": "text/x-python",
   "name": "python",
   "nbconvert_exporter": "python",
   "pygments_lexer": "ipython3",
   "version": "3.10.9"
  }
 },
 "nbformat": 4,
 "nbformat_minor": 2
}
