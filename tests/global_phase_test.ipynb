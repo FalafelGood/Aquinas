{
 "cells": [
  {
   "cell_type": "code",
   "execution_count": 1,
   "metadata": {},
   "outputs": [],
   "source": [
    "import numpy as np\n",
    "import sys\n",
    "from qiskit import QuantumCircuit, transpile\n",
    "from qiskit_aer import AerSimulator\n",
    "from qiskit.visualization import plot_histogram\n",
    "import interferometer as itf\n",
    "sys.path.append('../') # Add parent directory to the system path\n",
    "from boson_sampling_probabilities import output_probability\n",
    "from simulation import run_interferom_simulation, dist_to_state\n",
    "\n",
    "from numeric_truncated_unitaries import numeric_truncated_unitary\n",
    "from direct_decomposition import compile_unitary, knit_qiskit_circuits, random_unitary, direct_decomposition\n",
    "from random import random\n",
    "import qiskit.quantum_info as qi"
   ]
  },
  {
   "cell_type": "code",
   "execution_count": 2,
   "metadata": {},
   "outputs": [],
   "source": [
    "def bs_matrix(BS):\n",
    "    theta = BS.theta\n",
    "    phi = BS.phi\n",
    "    return np.array([[np.exp(1j *phi) * np.cos(theta),  -np.sin(theta)], \n",
    "                      [np.exp(1j * phi) * np.sin(theta), np.cos(theta)]])\n",
    "\n",
    "def is_unitary(m):\n",
    "    return np.allclose(np.eye(m.shape[0]), np.conjugate(np.transpose(m)) @ m)"
   ]
  },
  {
   "cell_type": "code",
   "execution_count": 3,
   "metadata": {},
   "outputs": [
    {
     "name": "stdout",
     "output_type": "stream",
     "text": [
      "[\n",
      " Beam splitter between modes 1 and 2: \n",
      " Theta angle: 1.43 \n",
      " Phase: 1.46]\n"
     ]
    },
    {
     "data": {
      "image/png": "[encoded data removed]",
      "text/plain": [
       "<Figure size 640x480 with 1 Axes>"
      ]
     },
     "metadata": {},
     "output_type": "display_data"
    }
   ],
   "source": [
    "I = itf.Interferometer()\n",
    "theta_1 = np.pi/2 * random()\n",
    "phi_1 = np.pi * random()\n",
    "BS1 = itf.Beamsplitter(1, 2, theta=theta_1, phi=phi_1)\n",
    "I.add_BS(BS1)\n",
    "print(I.BS_list)\n",
    "I.draw()"
   ]
  },
  {
   "cell_type": "code",
   "execution_count": 7,
   "metadata": {},
   "outputs": [
    {
     "data": {
      "text/html": [
       "<pre style=\"word-wrap: normal;white-space: pre;background: #fff0;line-height: 1.1;font-family: &quot;Courier New&quot;,Courier,monospace\">global phase: 5.4246\n",
       "         ┌─────────────────────┐             ┌────────────────────┐         »\n",
       "q_0: ────┤ U3(π/2,-π/2,2.2752) ├──────■──────┤ U3(1.7159,-π,-π/2) ├──────■──»\n",
       "     ┌───┴─────────────────────┴───┐┌─┴─┐┌───┴────────────────────┴───┐┌─┴─┐»\n",
       "q_1: ┤ U3(0.0013233,-π/2,-0.75842) ├┤ X ├┤ U3(1.5719,0.14514,-1.5695) ├┤ X ├»\n",
       "     └─────────────────────────────┘└───┘└────────────────────────────┘└───┘»\n",
       "«        ┌───────────────────┐    ░ \n",
       "«q_0: ───┤ U3(π/2,-2.2752,0) ├────░─\n",
       "«     ┌──┴───────────────────┴──┐ ░ \n",
       "«q_1: ┤ U3(1.5721,-2.3832,-π/2) ├─░─\n",
       "«     └─────────────────────────┘ ░ </pre>"
      ],
      "text/plain": [
       "global phase: 5.4246\n",
       "         ┌─────────────────────┐             ┌────────────────────┐         »\n",
       "q_0: ────┤ U3(π/2,-π/2,2.2752) ├──────■──────┤ U3(1.7159,-π,-π/2) ├──────■──»\n",
       "     ┌───┴─────────────────────┴───┐┌─┴─┐┌───┴────────────────────┴───┐┌─┴─┐»\n",
       "q_1: ┤ U3(0.0013233,-π/2,-0.75842) ├┤ X ├┤ U3(1.5719,0.14514,-1.5695) ├┤ X ├»\n",
       "     └─────────────────────────────┘└───┘└────────────────────────────┘└───┘»\n",
       "«        ┌───────────────────┐    ░ \n",
       "«q_0: ───┤ U3(π/2,-2.2752,0) ├────░─\n",
       "«     ┌──┴───────────────────┴──┐ ░ \n",
       "«q_1: ┤ U3(1.5721,-2.3832,-π/2) ├─░─\n",
       "«     └─────────────────────────┘ ░ "
      ]
     },
     "execution_count": 7,
     "metadata": {},
     "output_type": "execute_result"
    }
   ],
   "source": [
    "U_BS = I.calculate_transformation()\n",
    "ideal_U_circuit = numeric_truncated_unitary(BS1.theta, BS1.phi, 1)\n",
    "BS_circuit = direct_decomposition(U_BS, 1)\n",
    "BS_circuit.draw()\n",
    "# U_circuit = qi.Operator(BS_circuit)\n",
    "# np.allclose(ideal_U_circuit, U_circuit)"
   ]
  },
  {
   "cell_type": "code",
   "execution_count": 11,
   "metadata": {},
   "outputs": [
    {
     "data": {
      "text/html": [
       "<pre style=\"word-wrap: normal;white-space: pre;background: #fff0;line-height: 1.1;font-family: &quot;Courier New&quot;,Courier,monospace\">global phase: 5.4246\n",
       "         ┌─────────────────────┐             ┌────────────────────┐         »\n",
       "q_0: ────┤ U3(π/2,-π/2,2.2752) ├──────■──────┤ U3(1.7159,-π,-π/2) ├──────■──»\n",
       "     ┌───┴─────────────────────┴───┐┌─┴─┐┌───┴────────────────────┴───┐┌─┴─┐»\n",
       "q_1: ┤ U3(0.0013233,-π/2,-0.75842) ├┤ X ├┤ U3(1.5719,0.14514,-1.5695) ├┤ X ├»\n",
       "     └─────────────────────────────┘└───┘└────────────────────────────┘└───┘»\n",
       "q_2: ───────────────────────────────────────────────────────────────────────»\n",
       "                                                                            »\n",
       "«        ┌───────────────────┐    ░ \n",
       "«q_0: ───┤ U3(π/2,-2.2752,0) ├────░─\n",
       "«     ┌──┴───────────────────┴──┐ ░ \n",
       "«q_1: ┤ U3(1.5721,-2.3832,-π/2) ├─░─\n",
       "«     └─────────────────────────┘ ░ \n",
       "«q_2: ──────────────────────────────\n",
       "«                                   </pre>"
      ],
      "text/plain": [
       "global phase: 5.4246\n",
       "         ┌─────────────────────┐             ┌────────────────────┐         »\n",
       "q_0: ────┤ U3(π/2,-π/2,2.2752) ├──────■──────┤ U3(1.7159,-π,-π/2) ├──────■──»\n",
       "     ┌───┴─────────────────────┴───┐┌─┴─┐┌───┴────────────────────┴───┐┌─┴─┐»\n",
       "q_1: ┤ U3(0.0013233,-π/2,-0.75842) ├┤ X ├┤ U3(1.5719,0.14514,-1.5695) ├┤ X ├»\n",
       "     └─────────────────────────────┘└───┘└────────────────────────────┘└───┘»\n",
       "q_2: ───────────────────────────────────────────────────────────────────────»\n",
       "                                                                            »\n",
       "«        ┌───────────────────┐    ░ \n",
       "«q_0: ───┤ U3(π/2,-2.2752,0) ├────░─\n",
       "«     ┌──┴───────────────────┴──┐ ░ \n",
       "«q_1: ┤ U3(1.5721,-2.3832,-π/2) ├─░─\n",
       "«     └─────────────────────────┘ ░ \n",
       "«q_2: ──────────────────────────────\n",
       "«                                   "
      ]
     },
     "execution_count": 11,
     "metadata": {},
     "output_type": "execute_result"
    }
   ],
   "source": [
    "big_circuit = QuantumCircuit(3)\n",
    "big_circuit.compose(BS_circuit, [0,1], inplace=True)\n",
    "big_circuit.draw()"
   ]
  },
  {
   "cell_type": "code",
   "execution_count": 23,
   "metadata": {},
   "outputs": [
    {
     "name": "stdout",
     "output_type": "stream",
     "text": [
      "     ┌──────────────────────────────────────────┐\n",
      "q_0: ┤ correct_global_phase(-1.462864881165583) ├\n",
      "     ├──────────────────────────────────────────┤\n",
      "q_1: ┤ correct_global_phase(-1.462864881165583) ├\n",
      "     └──────────────────────────────────────────┘\n",
      "q_2: ────────────────────────────────────────────\n",
      "                                                 \n",
      "[-0.97679193-0.21419037j  0.        +0.j          0.        +0.j\n",
      "  0.        +0.j          0.        +0.j          0.        +0.j\n",
      "  0.        +0.j          0.        +0.j        ]\n",
      "[ 0.        +0.j         -0.97679193-0.21419037j  0.        +0.j\n",
      "  0.        +0.j          0.        +0.j          0.        +0.j\n",
      "  0.        +0.j          0.        +0.j        ]\n",
      "[ 0.        +0.j          0.        +0.j         -0.97679193-0.21419037j\n",
      "  0.        +0.j          0.        +0.j          0.        +0.j\n",
      "  0.        +0.j          0.        +0.j        ]\n",
      "[ 0.        +0.j          0.        +0.j          0.        +0.j\n",
      " -0.97679193-0.21419037j  0.        +0.j          0.        +0.j\n",
      "  0.        +0.j          0.        +0.j        ]\n",
      "[ 0.        +0.j          0.        +0.j          0.        +0.j\n",
      "  0.        +0.j         -0.97679193-0.21419037j  0.        +0.j\n",
      "  0.        +0.j          0.        +0.j        ]\n",
      "[ 0.        +0.j          0.        +0.j          0.        +0.j\n",
      "  0.        +0.j          0.        +0.j         -0.97679193-0.21419037j\n",
      "  0.        +0.j          0.        +0.j        ]\n",
      "[ 0.        +0.j          0.        +0.j          0.        +0.j\n",
      "  0.        +0.j          0.        +0.j          0.        +0.j\n",
      " -0.97679193-0.21419037j  0.        +0.j        ]\n",
      "[ 0.        +0.j          0.        +0.j          0.        +0.j\n",
      "  0.        +0.j          0.        +0.j          0.        +0.j\n",
      "  0.        +0.j         -0.97679193-0.21419037j]\n"
     ]
    }
   ],
   "source": [
    "qc = QuantumCircuit(3)\n",
    "phase_operator = np.exp(-1j * phi_1) * np.eye(2) # Negative phases on diagonal\n",
    "GP_flip = QuantumCircuit(2)\n",
    "GP_flip.unitary(phase_operator, list(range(2)), label=f\"correct_global_phase({-phi_1})\") # Is a label necessary?\n",
    "qc.compose(GP_flip, list(range(2)), inplace=True)\n",
    "print(qc)\n",
    "\n",
    "op= qi.Operator(qc)\n",
    "for i in op.data:\n",
    "    print(i)"
   ]
  },
  {
   "cell_type": "code",
   "execution_count": null,
   "metadata": {},
   "outputs": [],
   "source": []
  }
 ],
 "metadata": {
  "kernelspec": {
   "display_name": "graph_env",
   "language": "python",
   "name": "python3"
  },
  "language_info": {
   "codemirror_mode": {
    "name": "ipython",
    "version": 3
   },
   "file_extension": ".py",
   "mimetype": "text/x-python",
   "name": "python",
   "nbconvert_exporter": "python",
   "pygments_lexer": "ipython3",
   "version": "3.10.14"
  }
 },
 "nbformat": 4,
 "nbformat_minor": 2
}
