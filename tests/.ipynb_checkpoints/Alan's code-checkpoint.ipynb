{
 "cells": [
  {
   "cell_type": "code",
   "execution_count": 2,
   "id": "665474f0",
   "metadata": {},
   "outputs": [],
   "source": [
    "import numpy as np\n",
    "from functools import reduce\n",
    "Z = np.array([[1, 0], [0, -1]])\n",
    "I = np.eye(2)\n",
    "def kr(*args):\n",
    "    return reduce(np.kron, args)\n",
    "\n",
    "u = np.array([[1], [0]])\n",
    "d = np.array([[0], [1]])\n",
    "p = 2 ** -0.5 * (u + d)\n",
    "m = 2 ** -0.5 * (u - d)\n",
    "\n",
    "def itf_gate(theta, phi):\n",
    "    gate = np.eye(4, dtype=np.complex128)\n",
    "    gate[1:3, 1:3] = np.array([\n",
    "    [np.exp(1j * phi) * np.cos(theta), -np.sin(theta)],\n",
    "    [np.exp(1j * phi) * np.sin(theta), np.cos(theta)]\n",
    "])\n",
    "    return gate"
   ]
  },
  {
   "cell_type": "code",
   "execution_count": 3,
   "id": "32b1b5a6",
   "metadata": {},
   "outputs": [
    {
     "ename": "NameError",
     "evalue": "name 'U_trunc' is not defined",
     "output_type": "error",
     "traceback": [
      "\u001b[0;31m---------------------------------------------------------------------------\u001b[0m",
      "\u001b[0;31mNameError\u001b[0m                                 Traceback (most recent call last)",
      "Cell \u001b[0;32mIn [3], line 1\u001b[0m\n\u001b[0;32m----> 1\u001b[0m np\u001b[38;5;241m.\u001b[39mround(kr(itf_gate(\u001b[38;5;241m0.1\u001b[39m, \u001b[38;5;241m0.2\u001b[39m), I, I) \u001b[38;5;241m-\u001b[39m \u001b[43mU_trunc\u001b[49m, \u001b[38;5;241m3\u001b[39m) \n",
      "\u001b[0;31mNameError\u001b[0m: name 'U_trunc' is not defined"
     ]
    }
   ],
   "source": [
    "np.round(kr(itf_gate(0.1, 0.2), I, I) - U_trunc, 3)"
   ]
  },
  {
   "cell_type": "code",
   "execution_count": null,
   "id": "82d1c870",
   "metadata": {},
   "outputs": [],
   "source": [
    "np.round(U_circ @ kr(d, u, u, u), 3)"
   ]
  },
  {
   "cell_type": "code",
   "execution_count": null,
   "id": "8d66483c",
   "metadata": {},
   "outputs": [],
   "source": [
    "np.round(U_trunc @ kr(d, u, u, u), 3)"
   ]
  },
  {
   "cell_type": "code",
   "execution_count": null,
   "id": "e818ad69",
   "metadata": {},
   "outputs": [],
   "source": [
    "kr(I, Z, I)"
   ]
  },
  {
   "cell_type": "code",
   "execution_count": null,
   "id": "866d20cb",
   "metadata": {},
   "outputs": [],
   "source": [
    "np.round(kr(I, Z, I) @ U_circ,3)[3, 3]"
   ]
  }
 ],
 "metadata": {
  "kernelspec": {
   "display_name": "Python 3 (ipykernel)",
   "language": "python",
   "name": "python3"
  },
  "language_info": {
   "codemirror_mode": {
    "name": "ipython",
    "version": 3
   },
   "file_extension": ".py",
   "mimetype": "text/x-python",
   "name": "python",
   "nbconvert_exporter": "python",
   "pygments_lexer": "ipython3",
   "version": "3.10.14"
  }
 },
 "nbformat": 4,
 "nbformat_minor": 5
}
