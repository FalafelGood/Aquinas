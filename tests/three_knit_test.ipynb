{
 "cells": [
  {
   "cell_type": "code",
   "execution_count": 1,
   "metadata": {},
   "outputs": [],
   "source": [
    "import numpy as np\n",
    "import sys\n",
    "from qiskit import QuantumCircuit, transpile\n",
    "from qiskit_aer import AerSimulator\n",
    "from qiskit.visualization import plot_histogram\n",
    "import interferometer as itf\n",
    "sys.path.append('../') # Add parent directory to the system path\n",
    "from boson_sampling_probabilities import output_probability\n",
    "from direct_decomposition import direct_decomposition, random_unitary\n",
    "from simulation import run_interferom_simulation\n",
    "\n",
    "from numeric_truncated_unitaries import numeric_truncated_unitary\n",
    "from direct_decomposition import round_complex_matrix, compile_unitary, knit_qiskit_circuits"
   ]
  },
  {
   "cell_type": "code",
   "execution_count": 2,
   "metadata": {},
   "outputs": [],
   "source": [
    "I = itf.Interferometer()\n",
    "BS1 = itf.Beamsplitter(1, 2, theta=np.pi/4, phi=0)\n",
    "BS2 = itf.Beamsplitter(2, 3, theta=np.pi/3, phi=0)\n",
    "BS3 = itf.Beamsplitter(1, 2, theta=np.pi/3, phi=0)\n",
    "I.add_BS(BS1)\n",
    "I.add_BS(BS2)\n",
    "I.add_BS(BS3)"
   ]
  },
  {
   "cell_type": "code",
   "execution_count": 3,
   "metadata": {},
   "outputs": [],
   "source": [
    "U = I.calculate_transformation()"
   ]
  },
  {
   "cell_type": "code",
   "execution_count": 4,
   "metadata": {},
   "outputs": [],
   "source": [
    "counts = run_interferom_simulation(U, [0,0,1], 1e6)"
   ]
  },
  {
   "cell_type": "code",
   "execution_count": 5,
   "metadata": {},
   "outputs": [
    {
     "name": "stdout",
     "output_type": "stream",
     "text": [
      "{'001': 0.004156, '100': 0.37485, '010': 0.620994}\n"
     ]
    }
   ],
   "source": [
    "print(counts)"
   ]
  },
  {
   "cell_type": "code",
   "execution_count": 6,
   "metadata": {},
   "outputs": [
    {
     "name": "stdout",
     "output_type": "stream",
     "text": [
      "P [1, 0, 0] = 0.0022436490538903456\n",
      "P [0, 1, 0] = 0.6227563509461099\n",
      "P [0, 0, 1] = 0.37499999999999994\n"
     ]
    }
   ],
   "source": [
    "output_states = [[1,0,0],[0,1,0],[0,0,1]]\n",
    "for state in output_states:\n",
    "    print(f\"P {state} = {output_probability([1,0,0], state, U)}\")"
   ]
  },
  {
   "cell_type": "code",
   "execution_count": null,
   "metadata": {},
   "outputs": [],
   "source": []
  }
 ],
 "metadata": {
  "kernelspec": {
   "display_name": "graph_env",
   "language": "python",
   "name": "python3"
  },
  "language_info": {
   "codemirror_mode": {
    "name": "ipython",
    "version": 3
   },
   "file_extension": ".py",
   "mimetype": "text/x-python",
   "name": "python",
   "nbconvert_exporter": "python",
   "pygments_lexer": "ipython3",
   "version": "3.10.9"
  }
 },
 "nbformat": 4,
 "nbformat_minor": 2
}
