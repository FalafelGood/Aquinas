{
 "cells": [
  {
   "cell_type": "markdown",
   "metadata": {},
   "source": [
    "In this notebook, I check to see how the Clements interferometer package decomposes waveplates (i.e. beamsplitters with reflectivity 0)."
   ]
  },
  {
   "cell_type": "code",
   "execution_count": 2,
   "metadata": {},
   "outputs": [],
   "source": [
    "import numpy as np\n",
    "import interferometer as itf"
   ]
  },
  {
   "cell_type": "code",
   "execution_count": 5,
   "metadata": {},
   "outputs": [
    {
     "name": "stdout",
     "output_type": "stream",
     "text": [
      "[[1.+0.j 0.+0.j]\n",
      " [0.+0.j 1.+0.j]]\n"
     ]
    }
   ],
   "source": [
    "# Test 1: Passing \n",
    "BS = itf.Beamsplitter(1,2,0,0)\n",
    "I = itf.Interferometer()\n",
    "I.add_BS(BS)\n",
    "U = I.calculate_transformation()\n",
    "print(U)"
   ]
  },
  {
   "cell_type": "code",
   "execution_count": 7,
   "metadata": {},
   "outputs": [
    {
     "name": "stdout",
     "output_type": "stream",
     "text": [
      "[[-1.+1.2246468e-16j  0.+0.0000000e+00j]\n",
      " [ 0.+0.0000000e+00j  1.+0.0000000e+00j]]\n"
     ]
    }
   ],
   "source": [
    "# Test 1: Failing \n",
    "BS = itf.Beamsplitter(1,2,0,np.pi)\n",
    "I = itf.Interferometer()\n",
    "I.add_BS(BS)\n",
    "U = I.calculate_transformation()\n",
    "print(U)"
   ]
  },
  {
   "cell_type": "markdown",
   "metadata": {},
   "source": [
    "For $R = \\pi$, I expected the matrix\n",
    "\n",
    "$\\begin{pmatrix} 1 & 0 \\\\ 0 & -1 \\end{pmatrix}$\n",
    "\n",
    "Instead, I find\n",
    "\n",
    "$\\begin{pmatrix} -1 & 0 \\\\ 0 & 1 \\end{pmatrix}$\n",
    "\n",
    "Which indicates (at least in this scenario) there is a global phase shift of $-1 =e^{i\\pi}$ "
   ]
  },
  {
   "cell_type": "code",
   "execution_count": null,
   "metadata": {},
   "outputs": [],
   "source": []
  }
 ],
 "metadata": {
  "kernelspec": {
   "display_name": "graph_env",
   "language": "python",
   "name": "python3"
  },
  "language_info": {
   "codemirror_mode": {
    "name": "ipython",
    "version": 3
   },
   "file_extension": ".py",
   "mimetype": "text/x-python",
   "name": "python",
   "nbconvert_exporter": "python",
   "pygments_lexer": "ipython3",
   "version": "3.10.9"
  }
 },
 "nbformat": 4,
 "nbformat_minor": 2
}
