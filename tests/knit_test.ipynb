{
 "cells": [
  {
   "cell_type": "markdown",
   "metadata": {},
   "source": [
    "The objective of this notebook is to make sure that knit_circuits is working properly by visualising a simple example\n",
    "\n",
    "knit_qiskit_circuits() takes three arguements:\n",
    "    m: the number of beamsplitter modes\n",
    "    BS_list: A list of itf beamsplitters\n",
    "    circuits: A corresponding list of quantum circuits"
   ]
  },
  {
   "cell_type": "code",
   "execution_count": 1,
   "metadata": {},
   "outputs": [],
   "source": [
    "import numpy as np\n",
    "import sys\n",
    "import interferometer as itf\n",
    "from qiskit import QuantumCircuit\n",
    "sys.path.append('../') # Add parent directory to the system path\n",
    "from direct_decomposition import knit_qiskit_circuits"
   ]
  },
  {
   "cell_type": "code",
   "execution_count": 2,
   "metadata": {},
   "outputs": [
    {
     "data": {
      "image/png": "[encoded data removed]",
      "text/plain": [
       "<Figure size 640x480 with 1 Axes>"
      ]
     },
     "metadata": {},
     "output_type": "display_data"
    }
   ],
   "source": [
    "# Construct beamsplitters\n",
    "bs1 = itf.Beamsplitter(mode1=1, mode2=2, theta=0, phi=0)\n",
    "bs2 = itf.Beamsplitter(mode1=3, mode2=4, theta=0, phi=0)\n",
    "bs3 = itf.Beamsplitter(mode1=2, mode2=3, theta=0, phi=0)\n",
    "I = itf.Interferometer()\n",
    "I.add_BS(bs1)\n",
    "I.add_BS(bs2)\n",
    "I.add_BS(bs3)\n",
    "I.add_BS(bs1)\n",
    "I.add_BS(bs2)\n",
    "I.draw()"
   ]
  },
  {
   "cell_type": "code",
   "execution_count": 3,
   "metadata": {},
   "outputs": [
    {
     "name": "stdout",
     "output_type": "stream",
     "text": [
      "\n",
      " Beam splitter between modes 1 and 2: \n",
      " Theta angle: 0.00 \n",
      " Phase: 0.00\n",
      "\n",
      " Beam splitter between modes 3 and 4: \n",
      " Theta angle: 0.00 \n",
      " Phase: 0.00\n",
      "\n",
      " Beam splitter between modes 2 and 3: \n",
      " Theta angle: 0.00 \n",
      " Phase: 0.00\n",
      "\n",
      " Beam splitter between modes 1 and 2: \n",
      " Theta angle: 0.00 \n",
      " Phase: 0.00\n",
      "\n",
      " Beam splitter between modes 3 and 4: \n",
      " Theta angle: 0.00 \n",
      " Phase: 0.00\n"
     ]
    }
   ],
   "source": [
    "for bs in I.BS_list:\n",
    "    print(bs)"
   ]
  },
  {
   "cell_type": "code",
   "execution_count": 4,
   "metadata": {},
   "outputs": [],
   "source": [
    "bs_qubits = 4\n",
    "\n",
    "c1 = QuantumCircuit(bs_qubits)\n",
    "for i in range(bs_qubits):\n",
    "    c1.h(i)\n",
    "    c1.h(i)\n",
    "\n",
    "c2 = QuantumCircuit(bs_qubits)\n",
    "for i in range(bs_qubits):\n",
    "    c2.x(i)\n",
    "    c2.x(i)\n",
    "\n",
    "c3 = QuantumCircuit(bs_qubits)\n",
    "for i in range(bs_qubits):\n",
    "    c3.z(i)\n",
    "    c3.z(i)\n",
    "\n",
    "circuits = [c1,c2,c3,c1,c2]"
   ]
  },
  {
   "cell_type": "code",
   "execution_count": 5,
   "metadata": {},
   "outputs": [],
   "source": [
    "big_circuit = knit_qiskit_circuits(m=4, BS_list=I.BS_list, circuits=circuits)"
   ]
  },
  {
   "cell_type": "code",
   "execution_count": 6,
   "metadata": {},
   "outputs": [
    {
     "name": "stdout",
     "output_type": "stream",
     "text": [
      "     ┌───┐┌───┐ ░            ░            ░ ┌───┐┌───┐ ░            ░ \n",
      "q_0: ┤ H ├┤ H ├─░────────────░────────────░─┤ H ├┤ H ├─░────────────░─\n",
      "     ├───┤├───┤ ░            ░            ░ ├───┤├───┤ ░            ░ \n",
      "q_1: ┤ H ├┤ H ├─░────────────░────────────░─┤ H ├┤ H ├─░────────────░─\n",
      "     ├───┤├───┤ ░            ░ ┌───┐┌───┐ ░ ├───┤├───┤ ░            ░ \n",
      "q_2: ┤ H ├┤ H ├─░────────────░─┤ Z ├┤ Z ├─░─┤ H ├┤ H ├─░────────────░─\n",
      "     ├───┤├───┤ ░            ░ ├───┤├───┤ ░ ├───┤├───┤ ░            ░ \n",
      "q_3: ┤ H ├┤ H ├─░────────────░─┤ Z ├┤ Z ├─░─┤ H ├┤ H ├─░────────────░─\n",
      "     └───┘└───┘ ░ ┌───┐┌───┐ ░ ├───┤├───┤ ░ └───┘└───┘ ░ ┌───┐┌───┐ ░ \n",
      "q_4: ───────────░─┤ X ├┤ X ├─░─┤ Z ├┤ Z ├─░────────────░─┤ X ├┤ X ├─░─\n",
      "                ░ ├───┤├───┤ ░ ├───┤├───┤ ░            ░ ├───┤├───┤ ░ \n",
      "q_5: ───────────░─┤ X ├┤ X ├─░─┤ Z ├┤ Z ├─░────────────░─┤ X ├┤ X ├─░─\n",
      "                ░ ├───┤├───┤ ░ └───┘└───┘ ░            ░ ├───┤├───┤ ░ \n",
      "q_6: ───────────░─┤ X ├┤ X ├─░────────────░────────────░─┤ X ├┤ X ├─░─\n",
      "                ░ ├───┤├───┤ ░            ░            ░ ├───┤├───┤ ░ \n",
      "q_7: ───────────░─┤ X ├┤ X ├─░────────────░────────────░─┤ X ├┤ X ├─░─\n",
      "                ░ └───┘└───┘ ░            ░            ░ └───┘└───┘ ░ \n"
     ]
    }
   ],
   "source": [
    "print(big_circuit)"
   ]
  },
  {
   "cell_type": "code",
   "execution_count": null,
   "metadata": {},
   "outputs": [],
   "source": []
  }
 ],
 "metadata": {
  "kernelspec": {
   "display_name": "graph_env",
   "language": "python",
   "name": "python3"
  },
  "language_info": {
   "codemirror_mode": {
    "name": "ipython",
    "version": 3
   },
   "file_extension": ".py",
   "mimetype": "text/x-python",
   "name": "python",
   "nbconvert_exporter": "python",
   "pygments_lexer": "ipython3",
   "version": "3.10.9"
  }
 },
 "nbformat": 4,
 "nbformat_minor": 2
}
