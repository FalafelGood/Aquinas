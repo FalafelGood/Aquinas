{
 "cells": [
  {
   "cell_type": "code",
   "execution_count": 1,
   "metadata": {},
   "outputs": [],
   "source": [
    "import numpy as np\n",
    "import sys\n",
    "from qiskit import QuantumCircuit, transpile\n",
    "from qiskit_aer import AerSimulator\n",
    "from qiskit.visualization import plot_histogram\n",
    "import interferometer as itf\n",
    "from scipy.linalg import expm, logm\n",
    "sys.path.append('../') # Add parent directory to the system path\n",
    "from boson_sampling_probabilities import output_probability\n",
    "from direct_decomposition import direct_decomposition, random_unitary\n",
    "from simulation import run_interferom_simulation"
   ]
  },
  {
   "cell_type": "code",
   "execution_count": 7,
   "metadata": {},
   "outputs": [
    {
     "name": "stdout",
     "output_type": "stream",
     "text": [
      "[[ 0.15782186-0.7986207j  -0.14762615+0.45331239j  0.33165832-0.0037934j ]\n",
      " [-0.1046138 +0.51058415j -0.15714779+0.81876678j  0.09200675+0.15754387j]\n",
      " [-0.14549031+0.21092552j -0.05737151-0.27266912j  0.92473491+0.03960316j]]\n"
     ]
    }
   ],
   "source": [
    "# Make a random unitary R to simulate\n",
    "R = random_unitary(3)\n",
    "print(R)\n",
    "\n",
    "# R = np.array([[0,1,0],[1,0,0],[0,0,-1]])"
   ]
  },
  {
   "cell_type": "code",
   "execution_count": 8,
   "metadata": {},
   "outputs": [
    {
     "name": "stdout",
     "output_type": "stream",
     "text": [
      "P [2, 0, 0] = 0.05000811847891176\n",
      "P [0, 2, 0] = 0.04627154073766138\n",
      "P [0, 0, 2] = 0.13302874216041566\n",
      "P [1, 1, 0] = 0.10240608867806249\n",
      "P [1, 0, 1] = 0.1348749030724831\n",
      "P [0, 1, 1] = 0.5334106068724657\n"
     ]
    }
   ],
   "source": [
    "output_states = [[2,0,0],[0,2,0],[0,0,2],[1,1,0],[1,0,1],[0,1,1]]\n",
    "for state in output_states:\n",
    "    print(f\"P {state} = {output_probability([0,1,1], state, R)}\")"
   ]
  },
  {
   "cell_type": "code",
   "execution_count": 11,
   "metadata": {},
   "outputs": [],
   "source": [
    "counts = run_interferom_simulation(R, [1,1,0], 1e6)"
   ]
  },
  {
   "cell_type": "code",
   "execution_count": 12,
   "metadata": {},
   "outputs": [
    {
     "name": "stdout",
     "output_type": "stream",
     "text": [
      "{'001000': 0.052505, '000101': 0.116905, '010001': 0.066344, '100000': 0.133497, '000010': 0.029716, '010100': 0.601033}\n"
     ]
    }
   ],
   "source": [
    "print(counts)"
   ]
  },
  {
   "cell_type": "code",
   "execution_count": 6,
   "metadata": {},
   "outputs": [
    {
     "name": "stdout",
     "output_type": "stream",
     "text": [
      "P [1, 0, 0] = 0.0224945558883466\n",
      "P [0, 1, 0] = 0.9648070901892056\n",
      "P [0, 0, 1] = 0.012698353922448198\n"
     ]
    }
   ],
   "source": [
    "output_states = [[1,0,0],[0,1,0],[0,0,1]]\n",
    "for state in output_states:\n",
    "    print(f\"P {state} = {output_probability([1,0,0], state, R)}\")"
   ]
  },
  {
   "cell_type": "code",
   "execution_count": 19,
   "metadata": {},
   "outputs": [],
   "source": [
    "counts = run_interferom_simulation(R, [0,0,1], 1e6)"
   ]
  },
  {
   "cell_type": "code",
   "execution_count": 20,
   "metadata": {},
   "outputs": [
    {
     "name": "stdout",
     "output_type": "stream",
     "text": [
      "{'010': 0.0414, '001': 0.269443, '100': 0.689157}\n"
     ]
    }
   ],
   "source": [
    "print(counts)"
   ]
  },
  {
   "cell_type": "code",
   "execution_count": null,
   "metadata": {},
   "outputs": [],
   "source": []
  }
 ],
 "metadata": {
  "kernelspec": {
   "display_name": "graph_env",
   "language": "python",
   "name": "python3"
  },
  "language_info": {
   "codemirror_mode": {
    "name": "ipython",
    "version": 3
   },
   "file_extension": ".py",
   "mimetype": "text/x-python",
   "name": "python",
   "nbconvert_exporter": "python",
   "pygments_lexer": "ipython3",
   "version": "3.10.9"
  }
 },
 "nbformat": 4,
 "nbformat_minor": 2
}
