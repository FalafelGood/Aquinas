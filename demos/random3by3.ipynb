{
 "cells": [
  {
   "cell_type": "code",
   "execution_count": 1,
   "metadata": {},
   "outputs": [],
   "source": [
    "import numpy as np\n",
    "import sys\n",
    "from qiskit import QuantumCircuit, transpile\n",
    "from qiskit_aer import AerSimulator\n",
    "from qiskit.visualization import plot_histogram\n",
    "import interferometer as itf\n",
    "from scipy.linalg import expm, logm\n",
    "sys.path.append('../') # Add parent directory to the system path"
   ]
  },
  {
   "cell_type": "code",
   "execution_count": 2,
   "metadata": {},
   "outputs": [],
   "source": [
    "# This import requires previous directory to be appended to sys.path\n",
    "from direct_decomposition import direct_decomposition, random_unitary"
   ]
  },
  {
   "cell_type": "code",
   "execution_count": 3,
   "metadata": {},
   "outputs": [],
   "source": [
    "def a(n):\n",
    "    \"\"\"\n",
    "    Annihilation operator truncated at n photons, \n",
    "    \"\"\"\n",
    "    d = n + 1 # The unpadded creation operator truncated at n photons has dimension dxd\n",
    "    matrix = np.zeros((d, d))\n",
    "    for i in range(1, d):\n",
    "        matrix[i-1, i] = np.sqrt(i)\n",
    "    # matrix = pad_matrix(matrix) # Pad with zeros\n",
    "    return matrix\n",
    "\n",
    "def ad(n):\n",
    "    \"\"\"\n",
    "    Creation operator truncated at n photons\n",
    "    \"\"\"\n",
    "    return np.transpose(a(n))"
   ]
  },
  {
   "cell_type": "code",
   "execution_count": 4,
   "metadata": {},
   "outputs": [],
   "source": [
    "def op_basis_element(M, N, i, j):\n",
    "    \"\"\"\n",
    "    Get the (i,j)th basis element of an M mode interferometer supporting up to N photons\n",
    "    Where i is the index of the creation operator and j is the index of the annihilation operator\n",
    "\n",
    "    Example 1:\n",
    "    (M = 3, N = 2, i = 1, j = 1)\n",
    "\n",
    "    $$ I_{(N=2)} \\otimes a^\\dagger_{(N=2)} a_{(N=2)} \\otimes I_{(N=2)} $$\n",
    "\n",
    "    Example 2:\n",
    "    (M = 4, N = 4, i = 0, j = 3)\n",
    "\n",
    "    $$ a^\\dagger_{(N=4)} \\otimes I_{(N=4)} \\otimes I_{(N=4)} \\otimes a_{(N=4)} $$\n",
    "    \"\"\"\n",
    "\n",
    "    def get_kronecker_term(idx):\n",
    "        \"\"\"\n",
    "        Find the kth term in the kronecker product of the basis element where k = idx.\n",
    "\n",
    "        Example:\n",
    "            Suppose the basis operator has the form\n",
    "            $$a_{(N)}^\\dagger \\otimes a_{(N)} $$\n",
    "\n",
    "            get_kronecker_term(1) would $a_{(N)}^\\dagger$.\n",
    "        \"\"\"\n",
    "        if idx == i and idx == j:\n",
    "            return ad(N) @ a(N)\n",
    "        elif idx == i:\n",
    "            return ad(N)\n",
    "        elif idx == j:\n",
    "            return a(N)\n",
    "        else:\n",
    "            return np.eye(N+1, N+1) \n",
    "            # Plus one since this happens implicitly in the a() and ad() functions\n",
    "\n",
    "    assert(i < M and j < M), \"Index or indices out of range\"\n",
    "    basis_element = get_kronecker_term(0)\n",
    "    for k in range(1, M):\n",
    "        kron_term = get_kronecker_term(k)\n",
    "        basis_element = np.kron(basis_element, kron_term)\n",
    "    return basis_element\n"
   ]
  },
  {
   "cell_type": "markdown",
   "metadata": {},
   "source": [
    "Test case: $M = 2$, $N = 2$, $i = 0$, $j = 1$\n",
    "$$\n",
    "\\begin{pmatrix}\n",
    " 0 & 0 & 0 & 0 & 0 & 0 & 0 & 0 & 0 \\\\\n",
    " 0 & 0 & 0 & 0 & 0 & 0 & 0 & 0 & 0 \\\\\n",
    " 0 & 0 & 0 & 0 & 0 & 0 & 0 & 0 & 0 \\\\\n",
    " 0 & 1 & 0 & 0 & 0 & 0 & 0 & 0 & 0 \\\\\n",
    " 0 & 0 & \\sqrt{2} & 0 & 0 & 0 & 0 & 0 & 0 \\\\\n",
    " 0 & 0 & 0 & 0 & 0 & 0 & 0 & 0 & 0 \\\\\n",
    " 0 & 0 & 0 & 0 & \\sqrt{2} & 0 & 0 & 0 & 0 \\\\\n",
    " 0 & 0 & 0 & 0 & 0 & 2 & 0 & 0 & 0 \\\\\n",
    " 0 & 0 & 0 & 0 & 0 & 0 & 0 & 0 & 0 \\\\\n",
    "\\end{pmatrix}\n",
    "$$"
   ]
  },
  {
   "cell_type": "code",
   "execution_count": 5,
   "metadata": {},
   "outputs": [
    {
     "name": "stdout",
     "output_type": "stream",
     "text": [
      "(9, 9)\n",
      "[[0.         0.         0.         0.         0.         0.\n",
      "  0.         0.         0.        ]\n",
      " [0.         0.         0.         0.         0.         0.\n",
      "  0.         0.         0.        ]\n",
      " [0.         0.         0.         0.         0.         0.\n",
      "  0.         0.         0.        ]\n",
      " [0.         1.         0.         0.         0.         0.\n",
      "  0.         0.         0.        ]\n",
      " [0.         0.         1.41421356 0.         0.         0.\n",
      "  0.         0.         0.        ]\n",
      " [0.         0.         0.         0.         0.         0.\n",
      "  0.         0.         0.        ]\n",
      " [0.         0.         0.         0.         1.41421356 0.\n",
      "  0.         0.         0.        ]\n",
      " [0.         0.         0.         0.         0.         2.\n",
      "  0.         0.         0.        ]\n",
      " [0.         0.         0.         0.         0.         0.\n",
      "  0.         0.         0.        ]]\n"
     ]
    }
   ],
   "source": [
    "# Comparing test case to mathematica output:\n",
    "test_element = op_basis_element(2, 2, 0, 1)\n",
    "print(np.shape(test_element))\n",
    "print(np.array_str(test_element))\n",
    "# Output is matching -- test passed"
   ]
  },
  {
   "cell_type": "code",
   "execution_count": 6,
   "metadata": {},
   "outputs": [],
   "source": [
    "def expanded_unitary(U, N):\n",
    "    \"\"\"\n",
    "    This function takes a unitary U corresponding to the action of an M mode interferometer on the \n",
    "    creation operators and returns a unitary in the second quantization picture that can support up\n",
    "    to N photons per mode.\n",
    "    \"\"\"\n",
    "    M = np.shape(U)[0]\n",
    "    # Get Hamiltonian from unitary:\n",
    "    H = -1j * logm(U)\n",
    "    expanded_H = 0\n",
    "    # Sum basis elements multiplied by the corresponding Hamiltonian terms\n",
    "    for i in range(M):\n",
    "        for j in range(M):\n",
    "            expanded_H += H[i][j] * op_basis_element(M, N, i, j)\n",
    "    return expm(1j * expanded_H)"
   ]
  },
  {
   "cell_type": "code",
   "execution_count": 7,
   "metadata": {},
   "outputs": [
    {
     "name": "stdout",
     "output_type": "stream",
     "text": [
      "(9.000000000000004+4.747500951788335j)\n"
     ]
    }
   ],
   "source": [
    "# Test expanded_unitary\n",
    "r2 = 1/np.sqrt(2)\n",
    "test_U = np.matrix([[r2, r2, 0],[r2,-r2,0],[0,0,1]])\n",
    "test_U_expd = expanded_unitary(test_U, 2)\n",
    "print(sum(np.diag(test_U_expd)))\n",
    "# Expected value of this checksum I'm printing:\n",
    "# 9. + 4.7475 i (Verified by Mathematica)\n"
   ]
  },
  {
   "cell_type": "code",
   "execution_count": 8,
   "metadata": {},
   "outputs": [
    {
     "name": "stdout",
     "output_type": "stream",
     "text": [
      "[[ 0.17475129+0.15747238j  0.60300041-0.73473431j -0.18958056+0.07266119j]\n",
      " [-0.14792722-0.6784198j   0.30490579-0.04605917j  0.56902903+0.3146126j ]\n",
      " [-0.26108468+0.62798355j -0.02679824+0.02736547j  0.33848223+0.64917965j]]\n",
      "(64, 64)\n"
     ]
    }
   ],
   "source": [
    "# Make a random unitary R to simulate\n",
    "R = random_unitary(3)\n",
    "U_expd = expanded_unitary(R, 3)\n",
    "print(R)\n",
    "print(np.shape(U_expd))"
   ]
  },
  {
   "cell_type": "code",
   "execution_count": 9,
   "metadata": {},
   "outputs": [],
   "source": [
    "# Initialize statevector\n",
    "\n",
    "def make_initial_state(qubit_bitstring):\n",
    "    \"\"\"\n",
    "    Given some bitstring representing an initial qubit state,\n",
    "    this function finds the corresponding statevector.\n",
    "\n",
    "    Example:\n",
    "        qubit_bitstring = [0,1]\n",
    "        initial state = $|01\\rangle$\n",
    "        return np.matrix[[0,1,0,0]]\n",
    "    \"\"\"\n",
    "\n",
    "    ket_0 = np.matrix([1,0])\n",
    "    ket_1 = np.matrix([0,1])\n",
    "\n",
    "    # Tidy me\n",
    "    if qubit_bitstring[0] == 0:\n",
    "        initial_state = ket_0\n",
    "    elif qubit_bitstring[0] == 1:\n",
    "        initial_state = ket_1\n",
    "\n",
    "    for qubit in qubit_bitstring[1::]:\n",
    "        if qubit == 0:\n",
    "            initial_state = np.kron(initial_state, ket_0)\n",
    "        if qubit == 1:\n",
    "            initial_state = np.kron(initial_state, ket_1)\n",
    "    \n",
    "    return np.transpose(initial_state)\n",
    "\n",
    "qubit_bitstring = [0,1,0,1,0,0]\n",
    "initial_state = make_initial_state(qubit_bitstring)\n",
    "final_state = U_expd @ initial_state\n",
    "expectation_values = np.square(np.abs(final_state)) # Expectation values for observables"
   ]
  },
  {
   "cell_type": "code",
   "execution_count": 19,
   "metadata": {},
   "outputs": [
    {
     "name": "stdout",
     "output_type": "stream",
     "text": [
      "idx: 2,  val: 0.0013570718761097811\n",
      "100000\n",
      "idx: 5,  val: 0.04815690441218597\n",
      "010100\n",
      "idx: 8,  val: 0.09169162564583623\n",
      "001000\n",
      "idx: 17,  val: 0.4131245136453289\n",
      "010001\n",
      "idx: 20,  val: 0.3456847196121041\n",
      "000101\n",
      "idx: 32,  val: 0.09998516480843418\n",
      "000010\n",
      "{'100000': 0.0013570718761097811, '010100': 0.04815690441218597, '001000': 0.09169162564583623, '010001': 0.4131245136453289, '000101': 0.3456847196121041, '000010': 0.09998516480843418}\n"
     ]
    }
   ],
   "source": [
    "def reverse_blocks(string, m):\n",
    "    \"\"\"\n",
    "    This function splits a string up into blocks of length m, reverses the \n",
    "    order of the blocks and returns the resulting string\n",
    "    \"\"\"\n",
    "    blocks = [string[i:i+m] for i in range(0, len(string), m)]\n",
    "    reversed_blocks = blocks[::-1]\n",
    "    reversed_string = ''.join(reversed_blocks)\n",
    "    return reversed_string\n",
    "\n",
    "\n",
    "def format_bitstring(observable, num_qubits = 6, qubits_per_mode = 2, little_endian = True):\n",
    "    \"\"\"\n",
    "    This function takes an observable (integer) and converts it into a bitstring in the qiskit\n",
    "    convention.\n",
    "\n",
    "    First, the observable is represented in binary, and padded with zeros on the left hand side\n",
    "    up to the number of qubits.\n",
    "\n",
    "    Then, the bitstring is split up into m blocks, where m = qubits_per_mode. The order of the blocks\n",
    "    is reversed and the resulting string is returned.\n",
    "    \"\"\"\n",
    "    bitstring = bin(observable)[2:]\n",
    "    bitstring = '0' * (num_qubits - len(bitstring)) + bitstring \n",
    "    # Iterate over the bit string in m-step increments and flip substrings\n",
    "    final_bitstring = reverse_blocks(bitstring, qubits_per_mode)\n",
    "    return final_bitstring\n",
    "\n",
    "\n",
    "def format_expectations(expectation_values):\n",
    "    \"\"\"\n",
    "    Convert the expectations into a dictionary compatible with qiskit formatting\n",
    "    \"\"\"\n",
    "    exp_dict = dict()\n",
    "    for idx, val in enumerate(expectation_values[:]):\n",
    "        if val != 0.0:\n",
    "            bitstring = format_bitstring(idx)\n",
    "            exp_dict[bitstring] = float(val)\n",
    "    return exp_dict\n",
    "\n",
    "\n",
    "def pprint_expectations(expectation_values):\n",
    "    \"\"\"\n",
    "    Pretty print the expectation values generated in the previous cell\n",
    "    \"\"\"\n",
    "    for idx, val in enumerate(expectation_values[:]):\n",
    "        if val != 0.0:\n",
    "            print(f\"idx: {idx},  val: {float(val)}\")\n",
    "            print(format_bitstring(idx))\n",
    "\n",
    "pprint_expectations(expectation_values)\n",
    "exp_dict = format_expectations(expectation_values)\n",
    "    "
   ]
  },
  {
   "cell_type": "code",
   "execution_count": 15,
   "metadata": {},
   "outputs": [
    {
     "data": {
      "text/plain": [
       "'101001'"
      ]
     },
     "execution_count": 15,
     "metadata": {},
     "output_type": "execute_result"
    }
   ],
   "source": [
    "\n",
    "\n",
    "reverse_blocks(\"011010\", 2)"
   ]
  },
  {
   "cell_type": "code",
   "execution_count": 22,
   "metadata": {},
   "outputs": [],
   "source": [
    "def run_circuit_simulation(num_shots):\n",
    "    circuit = QuantumCircuit(6)\n",
    "    circuit.initialize(\"000101\")\n",
    "    interferom = direct_decomposition(R, 2)\n",
    "    circuit.compose(interferom, qubits=list(range(6)), inplace=True)\n",
    "    circuit.measure_all()\n",
    "\n",
    "    simulator = AerSimulator()\n",
    "    circuit = transpile(circuit, simulator)\n",
    "    result = simulator.run(circuit, shots=num_shots).result()\n",
    "    counts = result.get_counts(circuit)\n",
    "\n",
    "    # Convert counts to probabilities\n",
    "    for key in counts.keys():\n",
    "        counts[key] = counts[key] / num_shots\n",
    "    return counts\n"
   ]
  },
  {
   "cell_type": "code",
   "execution_count": 31,
   "metadata": {},
   "outputs": [],
   "source": [
    "shots_1e3 = run_circuit_simulation(1e3)"
   ]
  },
  {
   "cell_type": "code",
   "execution_count": 29,
   "metadata": {},
   "outputs": [],
   "source": [
    "shots_1e4 = run_circuit_simulation(1e4)"
   ]
  },
  {
   "cell_type": "code",
   "execution_count": null,
   "metadata": {},
   "outputs": [],
   "source": [
    "shots_1e5 = run_circuit_simulation(1e5)"
   ]
  },
  {
   "cell_type": "code",
   "execution_count": null,
   "metadata": {},
   "outputs": [],
   "source": [
    "shots_1e6 = run_circuit_simulation(1e6)"
   ]
  },
  {
   "cell_type": "code",
   "execution_count": 32,
   "metadata": {},
   "outputs": [
    {
     "data": {
      "image/png": "[encoded data removed]",
      "text/plain": [
       "<Figure size 700x500 with 1 Axes>"
      ]
     },
     "execution_count": 32,
     "metadata": {},
     "output_type": "execute_result"
    }
   ],
   "source": [
    "legend = ['Shots = 1e3', 'Shots = 1e4', 'Shots = 1e5', 'Numerical results']\n",
    "plot_histogram([shots_1e3, shots_1e4, shots_1e5, shots_1e6, exp_dict], legend=legend, title='Random 3x3', bar_labels=False)"
   ]
  },
  {
   "cell_type": "code",
   "execution_count": null,
   "metadata": {},
   "outputs": [],
   "source": []
  }
 ],
 "metadata": {
  "kernelspec": {
   "display_name": "graph_env",
   "language": "python",
   "name": "python3"
  },
  "language_info": {
   "codemirror_mode": {
    "name": "ipython",
    "version": 3
   },
   "file_extension": ".py",
   "mimetype": "text/x-python",
   "name": "python",
   "nbconvert_exporter": "python",
   "pygments_lexer": "ipython3",
   "version": "3.10.9"
  }
 },
 "nbformat": 4,
 "nbformat_minor": 2
}
