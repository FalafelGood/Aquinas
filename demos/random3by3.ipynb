{
 "cells": [
  {
   "cell_type": "code",
   "execution_count": 1,
   "metadata": {},
   "outputs": [],
   "source": [
    "import numpy as np\n",
    "import sys\n",
    "from qiskit import QuantumCircuit, transpile\n",
    "from qiskit_aer import AerSimulator\n",
    "from qiskit.visualization import plot_histogram\n",
    "import interferometer as itf\n",
    "from scipy.linalg import expm, logm\n",
    "sys.path.append('../') # Add parent directory to the system path"
   ]
  },
  {
   "cell_type": "code",
   "execution_count": 2,
   "metadata": {},
   "outputs": [],
   "source": [
    "# This import requires previous directory to be appended to sys.path\n",
    "from direct_decomposition import direct_decomposition, random_unitary\n",
    "# from numeric_truncated_unitaries import pad_matrix"
   ]
  },
  {
   "cell_type": "code",
   "execution_count": 3,
   "metadata": {},
   "outputs": [],
   "source": [
    "def a(n):\n",
    "    \"\"\"\n",
    "    Annihilation operator truncated at n photons, \n",
    "    \"\"\"\n",
    "    d = n + 1 # The unpadded creation operator truncated at n photons has dimension dxd\n",
    "    matrix = np.zeros((d, d))\n",
    "    for i in range(1, d):\n",
    "        matrix[i-1, i] = np.sqrt(i)\n",
    "    # matrix = pad_matrix(matrix) # Pad with zeros\n",
    "    return matrix\n",
    "\n",
    "def ad(n):\n",
    "    \"\"\"\n",
    "    Creation operator truncated at n photons\n",
    "    \"\"\"\n",
    "    return np.transpose(a(n))"
   ]
  },
  {
   "cell_type": "code",
   "execution_count": 4,
   "metadata": {},
   "outputs": [],
   "source": [
    "def op_basis_element(M, N, i, j):\n",
    "    \"\"\"\n",
    "    Get the (i,j)th basis element of an M mode interferometer supporting up to N photons\n",
    "    Where i is the index of the creation operator and j is the index of the annihilation operator\n",
    "\n",
    "    Example 1:\n",
    "    (M = 3, N = 2, i = 1, j = 1)\n",
    "\n",
    "    $$ I_{(N=2)} \\otimes a^\\dagger_{(N=2)} a_{(N=2)} \\otimes I_{(N=2)} $$\n",
    "\n",
    "    Example 2:\n",
    "    (M = 4, N = 4, i = 0, j = 3)\n",
    "\n",
    "    $$ a^\\dagger_{(N=4)} \\otimes I_{(N=4)} \\otimes I_{(N=4)} \\otimes a_{(N=4)} $$\n",
    "    \"\"\"\n",
    "\n",
    "    def get_kronecker_term(idx):\n",
    "        \"\"\"\n",
    "        Find the kth term in the kronecker product of the basis element where k = idx.\n",
    "\n",
    "        Example:\n",
    "            Suppose the basis operator has the form\n",
    "            $$a_{(N)}^\\dagger \\otimes a_{(N)} $$\n",
    "\n",
    "            get_kronecker_term(1) would $a_{(N)}^\\dagger$.\n",
    "        \"\"\"\n",
    "        if idx == i and idx == j:\n",
    "            return ad(N) @ a(N)\n",
    "        elif idx == i:\n",
    "            return ad(N)\n",
    "        elif idx == j:\n",
    "            return a(N)\n",
    "        else:\n",
    "            return np.eye(N+1, N+1) \n",
    "            # Plus one since this happens implicitly in the a() and ad() functions\n",
    "\n",
    "    assert(i < M and j < M), \"Index or indices out of range\"\n",
    "    basis_element = get_kronecker_term(0)\n",
    "    for k in range(1, M):\n",
    "        kron_term = get_kronecker_term(k)\n",
    "        basis_element = np.kron(basis_element, kron_term)\n",
    "    return basis_element\n"
   ]
  },
  {
   "cell_type": "markdown",
   "metadata": {},
   "source": [
    "Test case: $M = 2$, $N = 2$, $i = 0$, $j = 1$\n",
    "$$\n",
    "\\begin{pmatrix}\n",
    " 0 & 0 & 0 & 0 & 0 & 0 & 0 & 0 & 0 \\\\\n",
    " 0 & 0 & 0 & 0 & 0 & 0 & 0 & 0 & 0 \\\\\n",
    " 0 & 0 & 0 & 0 & 0 & 0 & 0 & 0 & 0 \\\\\n",
    " 0 & 1 & 0 & 0 & 0 & 0 & 0 & 0 & 0 \\\\\n",
    " 0 & 0 & \\sqrt{2} & 0 & 0 & 0 & 0 & 0 & 0 \\\\\n",
    " 0 & 0 & 0 & 0 & 0 & 0 & 0 & 0 & 0 \\\\\n",
    " 0 & 0 & 0 & 0 & \\sqrt{2} & 0 & 0 & 0 & 0 \\\\\n",
    " 0 & 0 & 0 & 0 & 0 & 2 & 0 & 0 & 0 \\\\\n",
    " 0 & 0 & 0 & 0 & 0 & 0 & 0 & 0 & 0 \\\\\n",
    "\\end{pmatrix}\n",
    "$$"
   ]
  },
  {
   "cell_type": "code",
   "execution_count": 5,
   "metadata": {},
   "outputs": [
    {
     "name": "stdout",
     "output_type": "stream",
     "text": [
      "(9, 9)\n",
      "[[0.         0.         0.         0.         0.         0.\n",
      "  0.         0.         0.        ]\n",
      " [0.         0.         0.         0.         0.         0.\n",
      "  0.         0.         0.        ]\n",
      " [0.         0.         0.         0.         0.         0.\n",
      "  0.         0.         0.        ]\n",
      " [0.         1.         0.         0.         0.         0.\n",
      "  0.         0.         0.        ]\n",
      " [0.         0.         1.41421356 0.         0.         0.\n",
      "  0.         0.         0.        ]\n",
      " [0.         0.         0.         0.         0.         0.\n",
      "  0.         0.         0.        ]\n",
      " [0.         0.         0.         0.         1.41421356 0.\n",
      "  0.         0.         0.        ]\n",
      " [0.         0.         0.         0.         0.         2.\n",
      "  0.         0.         0.        ]\n",
      " [0.         0.         0.         0.         0.         0.\n",
      "  0.         0.         0.        ]]\n"
     ]
    }
   ],
   "source": [
    "# Comparing test case to mathematica output:\n",
    "test_element = op_basis_element(2, 2, 0, 1)\n",
    "print(np.shape(test_element))\n",
    "print(np.array_str(test_element))\n",
    "# Output matches"
   ]
  },
  {
   "cell_type": "code",
   "execution_count": 6,
   "metadata": {},
   "outputs": [],
   "source": [
    "def expanded_unitary(U, N):\n",
    "    \"\"\"\n",
    "    This function takes a unitary U corresponding to the action of an M mode interferometer on the \n",
    "    creation operators and returns a unitary in the second quantization picture that can support up\n",
    "    to N photons per mode.\n",
    "    \"\"\"\n",
    "    M = np.shape(U)[0]\n",
    "    # Get Hamiltonian from unitary:\n",
    "    H = -1j * logm(U)\n",
    "    expanded_H = 0\n",
    "    # Sum basis elements multiplied by the corresponding Hamiltonian terms\n",
    "    for i in range(M):\n",
    "        for j in range(M):\n",
    "            expanded_H += H[i][j] * op_basis_element(M, N, i, j)\n",
    "    return expm(1j * expanded_H)"
   ]
  },
  {
   "cell_type": "code",
   "execution_count": 7,
   "metadata": {},
   "outputs": [
    {
     "name": "stdout",
     "output_type": "stream",
     "text": [
      "(27, 27)\n",
      "(9.000000000000004+4.747500951788335j)\n"
     ]
    }
   ],
   "source": [
    "# Test expanded_unitary\n",
    "r2 = 1/np.sqrt(2)\n",
    "test_U = np.matrix([[r2, r2, 0],[r2,-r2,0],[0,0,1]])\n",
    "U_expd = expanded_unitary(test_U, 2)\n",
    "print(np.shape(U_expd))\n",
    "print(sum(np.diag(U_expd)))\n",
    "# Expected value of checksum:\n",
    "# 9. + 4.7475 i \n",
    "# Verified by Mathematica\n"
   ]
  },
  {
   "cell_type": "code",
   "execution_count": 49,
   "metadata": {},
   "outputs": [
    {
     "name": "stdout",
     "output_type": "stream",
     "text": [
      "[[-0.60196435+0.29963861j -0.57065695-0.0694505j  -0.46405867+0.04508269j]\n",
      " [-0.50963968-0.51819734j  0.03432341+0.60328498j  0.21764556+0.24338952j]\n",
      " [-0.0863485 -0.11017472j  0.39959603-0.38042007j -0.32000611+0.75736724j]]\n",
      "(64, 64)\n"
     ]
    }
   ],
   "source": [
    "R = random_unitary(3)\n",
    "U_expd = expanded_unitary(R, 3)\n",
    "print(R)\n",
    "print(np.shape(U_expd))"
   ]
  },
  {
   "cell_type": "code",
   "execution_count": 70,
   "metadata": {},
   "outputs": [
    {
     "name": "stdout",
     "output_type": "stream",
     "text": [
      "[[0.        ]\n",
      " [0.        ]\n",
      " [0.01192901]\n",
      " [0.        ]\n",
      " [0.        ]\n",
      " [0.1185278 ]\n",
      " [0.        ]\n",
      " [0.        ]\n",
      " [0.38576885]\n",
      " [0.        ]\n",
      " [0.        ]\n",
      " [0.        ]\n",
      " [0.        ]\n",
      " [0.        ]\n",
      " [0.        ]\n",
      " [0.        ]\n",
      " [0.        ]\n",
      " [0.18160512]\n",
      " [0.        ]\n",
      " [0.        ]\n",
      " [0.00332644]\n",
      " [0.        ]\n",
      " [0.        ]\n",
      " [0.        ]\n",
      " [0.        ]\n",
      " [0.        ]\n",
      " [0.        ]\n",
      " [0.        ]\n",
      " [0.        ]\n",
      " [0.        ]\n",
      " [0.        ]\n",
      " [0.        ]\n",
      " [0.29884277]\n",
      " [0.        ]\n",
      " [0.        ]\n",
      " [0.        ]\n",
      " [0.        ]\n",
      " [0.        ]\n",
      " [0.        ]\n",
      " [0.        ]\n",
      " [0.        ]\n",
      " [0.        ]\n",
      " [0.        ]\n",
      " [0.        ]\n",
      " [0.        ]\n",
      " [0.        ]\n",
      " [0.        ]\n",
      " [0.        ]\n",
      " [0.        ]\n",
      " [0.        ]\n",
      " [0.        ]\n",
      " [0.        ]\n",
      " [0.        ]\n",
      " [0.        ]\n",
      " [0.        ]\n",
      " [0.        ]\n",
      " [0.        ]\n",
      " [0.        ]\n",
      " [0.        ]\n",
      " [0.        ]\n",
      " [0.        ]\n",
      " [0.        ]\n",
      " [0.        ]\n",
      " [0.        ]]\n"
     ]
    }
   ],
   "source": [
    "# Initialize statevector\n",
    "ket_0 = np.matrix([1,0])\n",
    "ket_1 = np.matrix([0,1])\n",
    "\n",
    "# state_vector = [0,0,0,0,0,1]\n",
    "state_vector = [0,1,0,1,0,0]\n",
    "\n",
    "# Tidy me\n",
    "if state_vector[0] == 0:\n",
    "    initial_state = ket_0\n",
    "elif state_vector[0] == 1:\n",
    "    initial_state = ket_1\n",
    "\n",
    "for qubit in state_vector[1::]:\n",
    "    if qubit == 0:\n",
    "        initial_state = np.kron(initial_state, ket_0)\n",
    "    if qubit == 1:\n",
    "        initial_state = np.kron(initial_state, ket_1)\n",
    "\n",
    "initial_state = np.transpose(initial_state)\n",
    "\n",
    "v = U_expd @ initial_state\n",
    "print(np.square(np.abs(v)))"
   ]
  },
  {
   "cell_type": "code",
   "execution_count": 83,
   "metadata": {},
   "outputs": [
    {
     "name": "stdout",
     "output_type": "stream",
     "text": [
      "{'000101': 1, '010001': 23, '001000': 33, '000010': 31, '010100': 12}\n"
     ]
    },
    {
     "data": {
      "image/png": "[encoded data removed]",
      "text/plain": [
       "<Figure size 700x500 with 1 Axes>"
      ]
     },
     "execution_count": 83,
     "metadata": {},
     "output_type": "execute_result"
    }
   ],
   "source": [
    "# Circuit simulation:\n",
    "circuit = QuantumCircuit(6)\n",
    "circuit.initialize(\"000101\")\n",
    "interferom = direct_decomposition(R, 2)\n",
    "circuit.compose(interferom, qubits=list(range(6)), inplace=True)\n",
    "circuit.measure_all()\n",
    "\n",
    "num_shots = 100\n",
    "simulator = AerSimulator()\n",
    "circuit = transpile(circuit, simulator)\n",
    "result = simulator.run(circuit, shots=num_shots).result()\n",
    "counts = result.get_counts(circuit)\n",
    "print(counts)\n",
    "plot_histogram(counts, title='Random 3x3')"
   ]
  },
  {
   "cell_type": "code",
   "execution_count": null,
   "metadata": {},
   "outputs": [],
   "source": [
    "|"
   ]
  }
 ],
 "metadata": {
  "kernelspec": {
   "display_name": "graph_env",
   "language": "python",
   "name": "python3"
  },
  "language_info": {
   "codemirror_mode": {
    "name": "ipython",
    "version": 3
   },
   "file_extension": ".py",
   "mimetype": "text/x-python",
   "name": "python",
   "nbconvert_exporter": "python",
   "pygments_lexer": "ipython3",
   "version": "3.10.9"
  }
 },
 "nbformat": 4,
 "nbformat_minor": 2
}
