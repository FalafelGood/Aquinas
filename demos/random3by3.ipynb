{
 "cells": [
  {
   "cell_type": "code",
   "execution_count": 28,
   "metadata": {},
   "outputs": [],
   "source": [
    "import numpy as np\n",
    "import sys\n",
    "from qiskit import QuantumCircuit, transpile\n",
    "from qiskit_aer import AerSimulator\n",
    "from qiskit.visualization import plot_histogram\n",
    "import interferometer as itf\n",
    "from scipy.linalg import expm, logm\n",
    "sys.path.append('../') # Add parent directory to the system path\n",
    "from boson_sampling_probabilities import output_probability"
   ]
  },
  {
   "cell_type": "code",
   "execution_count": 29,
   "metadata": {},
   "outputs": [],
   "source": [
    "# This import requires previous directory to be appended to sys.path\n",
    "from direct_decomposition import direct_decomposition, random_unitary"
   ]
  },
  {
   "cell_type": "code",
   "execution_count": 30,
   "metadata": {},
   "outputs": [
    {
     "name": "stdout",
     "output_type": "stream",
     "text": [
      "[[-0.86173606-0.17633384j -0.43668255+0.16941504j  0.08285484-0.00770073j]\n",
      " [ 0.31195192-0.35171644j -0.10689362+0.85745433j  0.17580472-0.03768381j]\n",
      " [-0.04976675+0.05312393j  0.17718361-0.05058345j  0.69679621+0.68936452j]]\n"
     ]
    }
   ],
   "source": [
    "# Make a random unitary R to simulate\n",
    "R = random_unitary(3)\n",
    "print(R)\n",
    "\n",
    "# R = np.array([[0,1,0],[1,0,0],[0,0,-1]])"
   ]
  },
  {
   "cell_type": "code",
   "execution_count": 31,
   "metadata": {},
   "outputs": [
    {
     "name": "stdout",
     "output_type": "stream",
     "text": [
      "P [2, 0, 0] = 0.0030382549197739616\n",
      "P [0, 2, 0] = 0.04827473288154631\n",
      "P [0, 0, 2] = 0.0652400355375547\n",
      "P [1, 1, 0] = 0.019225928483579232\n",
      "P [1, 0, 1] = 0.201014895910273\n",
      "P [0, 1, 1] = 0.6632061522672726\n"
     ]
    }
   ],
   "source": [
    "output_states = [[2,0,0],[0,2,0],[0,0,2],[1,1,0],[1,0,1],[0,1,1]]\n",
    "for state in output_states:\n",
    "    print(f\"P {state} = {output_probability([0,1,1], state, R)}\")"
   ]
  },
  {
   "cell_type": "code",
   "execution_count": 32,
   "metadata": {},
   "outputs": [],
   "source": [
    "def num_ones(string):\n",
    "    count = 0\n",
    "    for i in string:\n",
    "        if i == \"1\":\n",
    "            count += 1\n",
    "    return count\n",
    "\n",
    "\n",
    "def run_interferometer_circuit(U, initial_state, num_shots):\n",
    "    num_photons = num_ones(initial_state)\n",
    "    num_modes = int(np.shape(U)[0])\n",
    "    qubits_per_mode = int(np.ceil(np.log2(num_photons + 1)))\n",
    "    total_num_qubits = qubits_per_mode * num_modes\n",
    "    circuit = QuantumCircuit(total_num_qubits)\n",
    "    \n",
    "    circuit.initialize(initial_state)\n",
    "    interferom = direct_decomposition(U, num_photons)\n",
    "    circuit.compose(interferom, qubits=list(range(total_num_qubits)), inplace=True)\n",
    "    circuit.measure_all()\n",
    "\n",
    "    simulator = AerSimulator()\n",
    "    circuit = transpile(circuit, simulator)\n",
    "    result = simulator.run(circuit, shots=num_shots).result()\n",
    "    counts = result.get_counts(circuit)\n",
    "\n",
    "    probs = dict()\n",
    "    for key in counts.keys():\n",
    "        probs[key] = counts[key] / num_shots\n",
    "    return probs"
   ]
  },
  {
   "cell_type": "code",
   "execution_count": 33,
   "metadata": {},
   "outputs": [],
   "source": [
    "probs = run_interferometer_circuit(R, \"000101\", 1e5)"
   ]
  },
  {
   "cell_type": "code",
   "execution_count": 34,
   "metadata": {},
   "outputs": [
    {
     "name": "stdout",
     "output_type": "stream",
     "text": [
      "0.27392\n",
      "0.26906\n",
      "0.00042\n",
      "0.41828\n",
      "0.02528\n",
      "0.01304\n"
     ]
    }
   ],
   "source": [
    "# print(probs)\n",
    "ordered_measurements = [\"000010\",\"001000\",\"100000\",\"000101\",\"010001\",\"010100\"]\n",
    "for key in ordered_measurements:\n",
    "    print(probs[key])"
   ]
  },
  {
   "cell_type": "code",
   "execution_count": 35,
   "metadata": {},
   "outputs": [
    {
     "name": "stdout",
     "output_type": "stream",
     "text": [
      "P [2, 0, 0] = 0.3394812896894531\n",
      "P [0, 2, 0] = 0.33004870238373185\n",
      "P [0, 0, 2] = 0.0003598227872447441\n",
      "P [1, 1, 0] = 0.29157823387426013\n",
      "P [1, 0, 1] = 0.02253496076737068\n",
      "P [0, 1, 1] = 0.015996990497939182\n"
     ]
    }
   ],
   "source": [
    "output_states = [[2,0,0],[0,2,0],[0,0,2],[1,1,0],[1,0,1],[0,1,1]]\n",
    "for state in output_states:\n",
    "    print(f\"P {state} = {output_probability([1,1,0], state, R)}\")"
   ]
  },
  {
   "cell_type": "code",
   "execution_count": null,
   "metadata": {},
   "outputs": [],
   "source": []
  }
 ],
 "metadata": {
  "kernelspec": {
   "display_name": "graph_env",
   "language": "python",
   "name": "python3"
  },
  "language_info": {
   "codemirror_mode": {
    "name": "ipython",
    "version": 3
   },
   "file_extension": ".py",
   "mimetype": "text/x-python",
   "name": "python",
   "nbconvert_exporter": "python",
   "pygments_lexer": "ipython3",
   "version": "3.10.9"
  }
 },
 "nbformat": 4,
 "nbformat_minor": 2
}
