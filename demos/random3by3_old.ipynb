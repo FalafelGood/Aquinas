{
 "cells": [
  {
   "cell_type": "code",
   "execution_count": 43,
   "metadata": {},
   "outputs": [],
   "source": [
    "import numpy as np\n",
    "import sys\n",
    "from qiskit import QuantumCircuit, transpile\n",
    "from qiskit_aer import AerSimulator\n",
    "from qiskit.visualization import plot_histogram\n",
    "import interferometer as itf\n",
    "from scipy.linalg import expm, logm\n",
    "sys.path.append('../') # Add parent directory to the system path"
   ]
  },
  {
   "cell_type": "code",
   "execution_count": 44,
   "metadata": {},
   "outputs": [],
   "source": [
    "# This import requires previous directory to be appended to sys.path\n",
    "from direct_decomposition import direct_decomposition, random_unitary\n",
    "from numeric_truncated_unitaries import pad_matrix"
   ]
  },
  {
   "cell_type": "code",
   "execution_count": 45,
   "metadata": {},
   "outputs": [],
   "source": [
    "def a(n):\n",
    "    \"\"\"\n",
    "    Annihilation operator truncated at n photons and padded with zeros until the shape is a power of two.\n",
    "    (This is so the photon number space of the interferometer can be represented with qubits)\n",
    "    \"\"\"\n",
    "    d = n + 1 # The unpadded creation operator truncated at n photons has dimension dxd\n",
    "    matrix = np.zeros((d, d))\n",
    "    for i in range(1, d):\n",
    "        matrix[i-1, i] = np.sqrt(i)\n",
    "    matrix = pad_matrix(matrix) # Pad with zeros\n",
    "    return matrix\n",
    "\n",
    "def ad(n):\n",
    "    \"\"\"\n",
    "    Creation operator truncated at n photons\n",
    "    \"\"\"\n",
    "    return np.transpose(a(n))"
   ]
  },
  {
   "cell_type": "code",
   "execution_count": 46,
   "metadata": {},
   "outputs": [
    {
     "data": {
      "text/plain": [
       "array([[0.        , 1.        , 0.        , 0.        ],\n",
       "       [0.        , 0.        , 1.41421356, 0.        ],\n",
       "       [0.        , 0.        , 0.        , 0.        ],\n",
       "       [0.        , 0.        , 0.        , 0.        ]])"
      ]
     },
     "execution_count": 46,
     "metadata": {},
     "output_type": "execute_result"
    }
   ],
   "source": [
    "# Test\n",
    "a(2)"
   ]
  },
  {
   "cell_type": "code",
   "execution_count": 47,
   "metadata": {},
   "outputs": [],
   "source": [
    "def op_basis_element(M, N, i, j):\n",
    "    \"\"\"\n",
    "    Get the (i,j)th basis element of an M mode interferometer supporting up to N photons\n",
    "    Where i is the index of the creation operator and j is the index of the annihilation operator\n",
    "\n",
    "    Example 1:\n",
    "    (M = 3, N = 2, i = 1, j = 1)\n",
    "\n",
    "    $$ I_{(N=2)} \\otimes a^\\dagger_{(N=2)} a_{(N=2)} \\otimes I_{(N=2)} $$\n",
    "\n",
    "    Example 2:\n",
    "    (M = 4, N = 4, i = 0, j = 3)\n",
    "\n",
    "    $$ a^\\dagger_{(N=4)} \\otimes I_{(N=4)} \\otimes I_{(N=4)} \\otimes a_{(N=4)} $$\n",
    "    \"\"\"\n",
    "\n",
    "    def get_kronecker_term(idx):\n",
    "        \"\"\"\n",
    "        Find the kth term in the kronecker product of the basis element where k = idx.\n",
    "\n",
    "        Example:\n",
    "            Suppose the basis operator has the form\n",
    "            $$a_{(N)}^\\dagger \\otimes a_{(N)} $$\n",
    "\n",
    "            get_kronecker_term(1) would $a_{(N)}^\\dagger$.\n",
    "        \"\"\"\n",
    "        if idx == i and idx == j:\n",
    "            return ad(N) @ a(N)\n",
    "        elif idx == i:\n",
    "            return ad(N)\n",
    "        elif idx == j:\n",
    "            return a(N)\n",
    "        else:\n",
    "            return pad_matrix(np.eye(N+1, N+1)) \n",
    "            # Plus one and pad the identity since this implicitly happens in the functions generating\n",
    "            # creation and annihilation operators.\n",
    "\n",
    "    assert(i < M and j < M), \"Index or indices out of range\"\n",
    "    basis_element = get_kronecker_term(0)\n",
    "    for k in range(1, M):\n",
    "        kron_term = get_kronecker_term(k)\n",
    "        basis_element = np.kron(basis_element, kron_term)\n",
    "    return basis_element\n"
   ]
  },
  {
   "cell_type": "markdown",
   "metadata": {},
   "source": [
    "Test case: $M = 2$, $N = 2$, $i = 0$, $j = 1$\n",
    "</br>\n",
    "\n",
    "$a^\\dagger_{(N=2)} \\otimes a_{N=2} = $\n",
    "\n",
    "</br>\n",
    "\n",
    "$\n",
    "\\begin{pmatrix}\n",
    "0 & 0 & 0 & 0 \\\\\n",
    "1 & 0 & 0 & 0 \\\\\n",
    "0 & \\sqrt{2} & 0 & 0 \\\\\n",
    "0 & 0 & 0 & 0\n",
    "\\end{pmatrix}\n",
    "\\otimes\n",
    "\\begin{pmatrix}\n",
    "0 & 1 & 0 & 0 \\\\\n",
    "0 & 0 & \\sqrt{2} & 0 \\\\\n",
    "0 & 0 & 0 & 0 \\\\\n",
    "0 & 0 & 0 & 0\n",
    "\\end{pmatrix}\n",
    "$\n",
    "\n",
    "$$\n",
    "=\n",
    "\\begin{pmatrix}\n",
    " 0 & 0 & 0 & 0 & 0 & 0 & 0 & 0 & 0 & 0 & 0 & 0 & 0 & 0 & 0 & 0 \\\\\n",
    " 0 & 0 & 0 & 0 & 0 & 0 & 0 & 0 & 0 & 0 & 0 & 0 & 0 & 0 & 0 & 0 \\\\\n",
    " 0 & 0 & 0 & 0 & 0 & 0 & 0 & 0 & 0 & 0 & 0 & 0 & 0 & 0 & 0 & 0 \\\\\n",
    " 0 & 0 & 0 & 0 & 0 & 0 & 0 & 0 & 0 & 0 & 0 & 0 & 0 & 0 & 0 & 0 \\\\\n",
    " 0 & 1 & 0 & 0 & 0 & 0 & 0 & 0 & 0 & 0 & 0 & 0 & 0 & 0 & 0 & 0 \\\\\n",
    " 0 & 0 & \\sqrt{2} & 0 & 0 & 0 & 0 & 0 & 0 & 0 & 0 & 0 & 0 & 0 & 0 & 0 \\\\\n",
    " 0 & 0 & 0 & 0 & 0 & 0 & 0 & 0 & 0 & 0 & 0 & 0 & 0 & 0 & 0 & 0 \\\\\n",
    " 0 & 0 & 0 & 0 & 0 & 0 & 0 & 0 & 0 & 0 & 0 & 0 & 0 & 0 & 0 & 0 \\\\\n",
    " 0 & 0 & 0 & 0 & 0 & \\sqrt{2} & 0 & 0 & 0 & 0 & 0 & 0 & 0 & 0 & 0 & 0 \\\\\n",
    " 0 & 0 & 0 & 0 & 0 & 0 & 2 & 0 & 0 & 0 & 0 & 0 & 0 & 0 & 0 & 0 \\\\\n",
    " 0 & 0 & 0 & 0 & 0 & 0 & 0 & 0 & 0 & 0 & 0 & 0 & 0 & 0 & 0 & 0 \\\\\n",
    " 0 & 0 & 0 & 0 & 0 & 0 & 0 & 0 & 0 & 0 & 0 & 0 & 0 & 0 & 0 & 0 \\\\\n",
    " 0 & 0 & 0 & 0 & 0 & 0 & 0 & 0 & 0 & 0 & 0 & 0 & 0 & 0 & 0 & 0 \\\\\n",
    " 0 & 0 & 0 & 0 & 0 & 0 & 0 & 0 & 0 & 0 & 0 & 0 & 0 & 0 & 0 & 0 \\\\\n",
    " 0 & 0 & 0 & 0 & 0 & 0 & 0 & 0 & 0 & 0 & 0 & 0 & 0 & 0 & 0 & 0 \\\\\n",
    " 0 & 0 & 0 & 0 & 0 & 0 & 0 & 0 & 0 & 0 & 0 & 0 & 0 & 0 & 0 & 0 \\\\\n",
    "\\end{pmatrix}\n",
    "$$"
   ]
  },
  {
   "cell_type": "code",
   "execution_count": 48,
   "metadata": {},
   "outputs": [
    {
     "name": "stdout",
     "output_type": "stream",
     "text": [
      "(16, 16)\n",
      "1.0 1.4142135623730951 1.4142135623730951 2.0000000000000004\n"
     ]
    }
   ],
   "source": [
    "# Comparing test case to mathematica output:\n",
    "test_element = op_basis_element(2, 2, 0, 1)\n",
    "print(np.shape(test_element))\n",
    "print(test_element[4][1], test_element[5][2], test_element[8][5], test_element[9][6])\n",
    "# Test passed -- Output is matching for all non-zero elements"
   ]
  },
  {
   "cell_type": "code",
   "execution_count": 49,
   "metadata": {},
   "outputs": [],
   "source": [
    "def expanded_unitary(U, N):\n",
    "    \"\"\"\n",
    "    This function takes an MxM unitary U corresponding to the action of an M mode interferometer on the \n",
    "    creation operators and returns a unitary in the second quantization picture that can support up\n",
    "    to N photons per mode.\n",
    "    \"\"\"\n",
    "    M = np.shape(U)[0]\n",
    "    # Get Hamiltonian from unitary:\n",
    "    H = -1j * logm(U)\n",
    "    expanded_H = 0\n",
    "    # Sum basis elements multiplied by the corresponding Hamiltonian terms\n",
    "    for i in range(M):\n",
    "        for j in range(M):\n",
    "            expanded_H += H[i][j] * op_basis_element(M, N, i, j)\n",
    "    return expm(1j * expanded_H)"
   ]
  },
  {
   "cell_type": "code",
   "execution_count": 50,
   "metadata": {},
   "outputs": [
    {
     "name": "stdout",
     "output_type": "stream",
     "text": [
      "(1.7763568394002505e-15+7.216063182081298e-15j)\n",
      "(46.000000000000014+4.747500951788335j)\n",
      "(5.869957263668627-7.456259390505789j)\n"
     ]
    }
   ],
   "source": [
    "# Test expanded_unitary\n",
    "r2 = 1/np.sqrt(2)\n",
    "test_U = np.matrix([[r2, r2, 0],[r2,-r2,0],[0,0,1]])\n",
    "test_U_1photon = expanded_unitary(test_U, 1) \n",
    "print(sum(np.diag(test_U_1photon))) # Checksum\n",
    "# Expected checksum value = 0 (Verified by Mathematica)\n",
    "\n",
    "test_U_2photon = expanded_unitary(test_U, 2)\n",
    "print(sum(np.diag(test_U_2photon))) # Checksum\n",
    "# Expected checksum value = 46. + 4.7475 i (Verified by Mathematica)\n",
    "\n",
    "test_U_3photon = expanded_unitary(test_U, 3)\n",
    "print(sum(np.diag(test_U_3photon))) # Checksum\n",
    "# Expected checksum value = 5.86996. - 7.45626 i (Verified by Mathematica)"
   ]
  },
  {
   "cell_type": "code",
   "execution_count": 51,
   "metadata": {},
   "outputs": [
    {
     "name": "stdout",
     "output_type": "stream",
     "text": [
      "[[-0.41153171+0.36317891j -0.41593966+0.65583134j  0.30826727-0.02436128j]\n",
      " [ 0.02696661-0.46559546j  0.26259804+0.04376347j  0.84268951-0.03866643j]\n",
      " [-0.26829742-0.63972877j  0.21468321+0.52907239j -0.43763822+0.03507009j]]\n",
      "(64, 64)\n"
     ]
    }
   ],
   "source": [
    "# Make a random unitary R to simulate\n",
    "R = random_unitary(3)\n",
    "U_expd = expanded_unitary(R, 2)\n",
    "print(R)\n",
    "print(np.shape(U_expd))"
   ]
  },
  {
   "cell_type": "code",
   "execution_count": 52,
   "metadata": {},
   "outputs": [],
   "source": [
    "# Initialize statevector\n",
    "\n",
    "def make_initial_state(qubit_bitstring):\n",
    "    \"\"\"\n",
    "    Given a bitstring representing an initial qubit state, this function finds the corresponding statevector.\n",
    "\n",
    "    Example:\n",
    "        qubit_bitstring = [0,1]\n",
    "        initial state = $|01\\rangle$\n",
    "        return np.matrix[[0],[1],[0],[0]]\n",
    "    \"\"\"\n",
    "\n",
    "    ket_0 = np.matrix([1,0])\n",
    "    ket_1 = np.matrix([0,1])\n",
    "\n",
    "    # This can be tidied\n",
    "    if qubit_bitstring[0] == 0:\n",
    "        initial_state = ket_0\n",
    "    elif qubit_bitstring[0] == 1:\n",
    "        initial_state = ket_1\n",
    "\n",
    "    for qubit in qubit_bitstring[1::]:\n",
    "        if qubit == 0:\n",
    "            initial_state = np.kron(initial_state, ket_0)\n",
    "        if qubit == 1:\n",
    "            initial_state = np.kron(initial_state, ket_1)\n",
    "    \n",
    "    return np.transpose(initial_state)\n",
    "\n",
    "qubit_bitstring = [0,1,0,1,0,0]\n",
    "initial_state = make_initial_state(qubit_bitstring)\n",
    "final_state = U_expd @ initial_state\n",
    "expectation_values = np.square(np.abs(final_state)) # Expectation values for observables"
   ]
  },
  {
   "cell_type": "code",
   "execution_count": 53,
   "metadata": {},
   "outputs": [
    {
     "name": "stdout",
     "output_type": "stream",
     "text": [
      "idx: 2,  val: 0.31377236614206117\n",
      "100000\n",
      "idx: 5,  val: 0.11440807326487393\n",
      "010100\n",
      "idx: 8,  val: 0.030830640898105548\n",
      "001000\n",
      "idx: 17,  val: 0.0652900708716124\n",
      "010001\n",
      "idx: 20,  val: 0.11230994983980766\n",
      "000101\n",
      "idx: 32,  val: 0.36338889898353977\n",
      "000010\n"
     ]
    }
   ],
   "source": [
    "def reverse_blocks(string, m):\n",
    "    \"\"\"\n",
    "    This function splits a string up into blocks of length m, reverses the \n",
    "    order of the blocks and returns the resulting string\n",
    "    \"\"\"\n",
    "    blocks = [string[i:i+m] for i in range(0, len(string), m)]\n",
    "    reversed_blocks = blocks[::-1]\n",
    "    reversed_string = ''.join(reversed_blocks)\n",
    "    return reversed_string\n",
    "\n",
    "\n",
    "def format_bitstring(observable, num_qubits = 6, qubits_per_mode = 2, little_endian = True):\n",
    "    \"\"\"\n",
    "    This function takes an observable (integer) and converts it into a bitstring in the qiskit\n",
    "    convention.\n",
    "\n",
    "    First, the observable is represented in binary, and padded with zeros on the left hand side\n",
    "    up to the number of qubits.\n",
    "\n",
    "    Then, the bitstring is split up into m blocks, where m = qubits_per_mode. The order of the blocks\n",
    "    is reversed and the resulting string is returned.\n",
    "    \"\"\"\n",
    "    bitstring = bin(observable)[2:]\n",
    "    bitstring = '0' * (num_qubits - len(bitstring)) + bitstring \n",
    "    # Iterate over the bit string in m-step increments and flip substrings\n",
    "    final_bitstring = reverse_blocks(bitstring, qubits_per_mode)\n",
    "    return final_bitstring\n",
    "\n",
    "\n",
    "def format_expectations(expectation_values):\n",
    "    \"\"\"\n",
    "    Convert the expectations into a dictionary compatible with qiskit formatting\n",
    "    \"\"\"\n",
    "    exp_dict = dict()\n",
    "    for idx, val in enumerate(expectation_values[:]):\n",
    "        if val != 0.0:\n",
    "            bitstring = format_bitstring(idx)\n",
    "            exp_dict[bitstring] = float(val)\n",
    "    return exp_dict\n",
    "\n",
    "\n",
    "def pprint_expectations(expectation_values):\n",
    "    \"\"\"\n",
    "    Pretty print the expectation values generated in the previous cell\n",
    "    \"\"\"\n",
    "    for idx, val in enumerate(expectation_values[:]):\n",
    "        if val != 0.0:\n",
    "            print(f\"idx: {idx},  val: {float(val)}\")\n",
    "            print(format_bitstring(idx))\n",
    "\n",
    "pprint_expectations(expectation_values)\n",
    "exp_dict = format_expectations(expectation_values)\n",
    "    "
   ]
  },
  {
   "cell_type": "code",
   "execution_count": 54,
   "metadata": {},
   "outputs": [],
   "source": [
    "def run_circuit_simulation(U, initial_state, num_shots, num_photons):\n",
    "    num_modes = int(np.shape(U)[0])\n",
    "    qubits_per_mode = int(np.ceil(np.log2(num_photons + 1)))\n",
    "    num_qubits = qubits_per_mode * num_modes\n",
    "    circuit = QuantumCircuit(num_qubits)\n",
    "    \n",
    "    # # This needs to be tested in greater detail\n",
    "    # initial_state = \"\"\n",
    "    # for i in range(num_modes):\n",
    "    #     if i > num_modes - (num_photons + 1):\n",
    "    #         initial_state += \"0\" * (qubits_per_mode - 1) + \"1\"\n",
    "    #     else:\n",
    "    #         initial_state += \"0\" * qubits_per_mode\n",
    "    # initial_state = \"000101\" #debug\n",
    "    \n",
    "    print(f\"Initial state: {initial_state}\")\n",
    "    circuit.initialize(initial_state)\n",
    "    # circuit.initialize(\"000101\")\n",
    "    interferom = direct_decomposition(R, num_photons)\n",
    "    circuit.compose(interferom, qubits=list(range(num_qubits)), inplace=True)\n",
    "    circuit.measure_all()\n",
    "\n",
    "    simulator = AerSimulator()\n",
    "    circuit = transpile(circuit, simulator)\n",
    "    result = simulator.run(circuit, shots=num_shots).result()\n",
    "    counts = result.get_counts(circuit)\n",
    "\n",
    "    # Convert counts to probabilities\n",
    "    for key in counts.keys():\n",
    "        counts[key] = counts[key] / num_shots\n",
    "    return counts\n"
   ]
  },
  {
   "cell_type": "code",
   "execution_count": 55,
   "metadata": {},
   "outputs": [
    {
     "name": "stdout",
     "output_type": "stream",
     "text": [
      "Initial state: 000101\n"
     ]
    }
   ],
   "source": [
    "shots_1e3 = run_circuit_simulation(R, \"000101\", 1e3, num_photons=2)"
   ]
  },
  {
   "cell_type": "code",
   "execution_count": 56,
   "metadata": {},
   "outputs": [
    {
     "name": "stdout",
     "output_type": "stream",
     "text": [
      "Initial state: 000101\n"
     ]
    }
   ],
   "source": [
    "shots_1e4 = run_circuit_simulation(R, \"000101\", 1e4, num_photons=2)"
   ]
  },
  {
   "cell_type": "code",
   "execution_count": 57,
   "metadata": {},
   "outputs": [
    {
     "name": "stdout",
     "output_type": "stream",
     "text": [
      "Initial state: 000101\n"
     ]
    }
   ],
   "source": [
    "shots_1e5 = run_circuit_simulation(R, \"000101\", 1e5, num_photons=2)"
   ]
  },
  {
   "cell_type": "code",
   "execution_count": 58,
   "metadata": {},
   "outputs": [
    {
     "data": {
      "image/png": "[encoded data removed]",
      "text/plain": [
       "<Figure size 700x500 with 1 Axes>"
      ]
     },
     "execution_count": 58,
     "metadata": {},
     "output_type": "execute_result"
    }
   ],
   "source": [
    "legend = ['Shots = 1e3', 'Shots = 1e4', 'Shots = 1e5', 'Numerical results']\n",
    "plot_histogram([shots_1e3, shots_1e4, shots_1e5, exp_dict], legend=legend, title='Random 3x3', bar_labels=False)"
   ]
  },
  {
   "cell_type": "code",
   "execution_count": 59,
   "metadata": {},
   "outputs": [],
   "source": [
    "from boson_sampling_probabilities import output_probability"
   ]
  },
  {
   "cell_type": "code",
   "execution_count": 60,
   "metadata": {},
   "outputs": [
    {
     "name": "stdout",
     "output_type": "stream",
     "text": [
      "Probability of output [2, 0, 0] = 0.36338889898353893\n",
      "Probability of output [0, 2, 0] = 0.03083064089810551\n",
      "Probability of output [0, 0, 2] = 0.31377236614206105\n",
      "Probability of output [1, 1, 0] = 0.11230994983980791\n",
      "Probability of output [1, 0, 1] = 0.06529007087161286\n",
      "Probability of output [0, 1, 1] = 0.11440807326487364\n"
     ]
    }
   ],
   "source": [
    "output_states = [[2,0,0],[0,2,0],[0,0,2],[1,1,0],[1,0,1],[0,1,1]]\n",
    "for state in output_states:\n",
    "    print(f\"Probability of output {state} = {output_probability([1,1,0], state, R)}\")"
   ]
  },
  {
   "cell_type": "code",
   "execution_count": 61,
   "metadata": {},
   "outputs": [
    {
     "name": "stdout",
     "output_type": "stream",
     "text": [
      "0.36338889898353977\n",
      "0.030830640898105548\n",
      "0.31377236614206117\n",
      "0.11230994983980766\n",
      "0.0652900708716124\n",
      "0.11440807326487393\n"
     ]
    }
   ],
   "source": [
    "keys = [\"000010\",\"001000\",\"100000\",\"000101\",\"010001\",\"010100\"]\n",
    "for key in keys:\n",
    "    print(exp_dict[key])"
   ]
  },
  {
   "cell_type": "code",
   "execution_count": 62,
   "metadata": {},
   "outputs": [
    {
     "name": "stdout",
     "output_type": "stream",
     "text": [
      "0.41006\n",
      "0.02553\n",
      "0.31224\n",
      "0.07329\n",
      "0.01356\n",
      "0.16532\n"
     ]
    }
   ],
   "source": [
    "keys = [\"000010\",\"001000\",\"100000\",\"000101\",\"010001\",\"010100\"]\n",
    "for key in keys:\n",
    "    print(shots_1e5[key])"
   ]
  },
  {
   "cell_type": "code",
   "execution_count": null,
   "metadata": {},
   "outputs": [],
   "source": []
  }
 ],
 "metadata": {
  "kernelspec": {
   "display_name": "graph_env",
   "language": "python",
   "name": "python3"
  },
  "language_info": {
   "codemirror_mode": {
    "name": "ipython",
    "version": 3
   },
   "file_extension": ".py",
   "mimetype": "text/x-python",
   "name": "python",
   "nbconvert_exporter": "python",
   "pygments_lexer": "ipython3",
   "version": "3.10.9"
  }
 },
 "nbformat": 4,
 "nbformat_minor": 2
}
