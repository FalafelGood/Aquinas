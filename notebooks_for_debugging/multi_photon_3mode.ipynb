{
 "cells": [
  {
   "cell_type": "code",
   "execution_count": 1,
   "metadata": {},
   "outputs": [],
   "source": [
    "import numpy as np\n",
    "from qiskit.visualization import plot_histogram\n",
    "import interferometer as itf\n",
    "from Aquinas.numeric_truncated_unitaries import *\n",
    "from Aquinas.direct_decomposition import *\n",
    "from Aquinas.boson_sampling_probabilities import *\n",
    "from Aquinas.simulation import *\n",
    "from random import random\n",
    "from qiskit.quantum_info import Operator"
   ]
  },
  {
   "cell_type": "code",
   "execution_count": 2,
   "metadata": {},
   "outputs": [],
   "source": [
    "def zero_close_elements(matrix, threshold=1e-10):\n",
    "    \"\"\"\n",
    "    Sets elements in the complex matrix to zero if their magnitude is close to zero.\n",
    "    \n",
    "    Parameters:\n",
    "    matrix (np.ndarray): A 2D numpy array with complex numbers.\n",
    "    threshold (float): A small threshold value to determine what is considered close to zero.\n",
    "    \n",
    "    Returns:\n",
    "    np.ndarray: A matrix with elements close to zero set to exactly zero.\n",
    "    \"\"\"\n",
    "    real_close_to_zero = np.abs(matrix.real) < threshold\n",
    "    imag_close_to_zero = np.abs(matrix.imag) < threshold\n",
    "    \n",
    "    matrix.real[real_close_to_zero] = 0\n",
    "    matrix.imag[imag_close_to_zero] = 0\n",
    "    \n",
    "    return matrix"
   ]
  },
  {
   "cell_type": "code",
   "execution_count": 3,
   "metadata": {},
   "outputs": [
    {
     "data": {
      "image/png": "[encoded data removed]",
      "text/plain": [
       "<Figure size 640x480 with 1 Axes>"
      ]
     },
     "metadata": {},
     "output_type": "display_data"
    }
   ],
   "source": [
    "I = itf.Interferometer()\n",
    "\n",
    "theta_1 = 0.1\n",
    "phi_1 = 0.1\n",
    "\n",
    "theta_2 = 0.3\n",
    "phi_2 = 0.2\n",
    "\n",
    "theta_3 = 0.1\n",
    "phi_3 = 0.5\n",
    "\n",
    "BS3 = itf.Beamsplitter(1, 2, theta=theta_3, phi=phi_3)\n",
    "BS2 = itf.Beamsplitter(2, 3, theta=theta_2, phi=phi_2)\n",
    "BS1 = itf.Beamsplitter(1, 2, theta=theta_1, phi=phi_1)\n",
    "\n",
    "I.add_BS(BS1)\n",
    "I.add_BS(BS2)\n",
    "I.add_BS(BS3)\n",
    "I.draw()"
   ]
  },
  {
   "cell_type": "code",
   "execution_count": 4,
   "metadata": {},
   "outputs": [
    {
     "name": "stdout",
     "output_type": "stream",
     "text": [
      "[[ 0.80801344+0.55620103j -0.18018076-0.0664769j   0.02950279+0.j        ]\n",
      " [ 0.17264399+0.08413286j  0.91821499+0.18312612j -0.29404384+0.j        ]\n",
      " [ 0.02818509+0.00871867j  0.28818254+0.05841749j  0.95533649+0.j        ]]\n"
     ]
    }
   ],
   "source": [
    "U = I.calculate_transformation()\n",
    "print(U)"
   ]
  },
  {
   "cell_type": "code",
   "execution_count": 33,
   "metadata": {},
   "outputs": [],
   "source": [
    "num_photons = 3\n",
    "# U_trunc = numeric_truncated_unitary(U, num_photons) # Three photon circuit"
   ]
  },
  {
   "cell_type": "code",
   "execution_count": 34,
   "metadata": {},
   "outputs": [],
   "source": [
    "qc = direct_decomposition(U, num_photons)\n",
    "U_circ = zero_close_elements(Operator(qc).data)"
   ]
  },
  {
   "cell_type": "code",
   "execution_count": 7,
   "metadata": {},
   "outputs": [],
   "source": [
    "state001 = np.array([0,1,0,0,0,0,0,0], complex)\n",
    "state010 = np.array([0,0,1,0,0,0,0,0], complex)\n",
    "state100 = np.array([0,0,0,0,1,0,0,0], complex)"
   ]
  },
  {
   "cell_type": "code",
   "execution_count": 8,
   "metadata": {},
   "outputs": [
    {
     "data": {
      "text/plain": [
       "array([[0.+0.j],\n",
       "       [1.+0.j],\n",
       "       [0.+0.j],\n",
       "       [0.+0.j],\n",
       "       [0.+0.j],\n",
       "       [0.+0.j],\n",
       "       [0.+0.j],\n",
       "       [0.+0.j]])"
      ]
     },
     "execution_count": 8,
     "metadata": {},
     "output_type": "execute_result"
    }
   ],
   "source": [
    "statevector_from_config([1,0,0])"
   ]
  },
  {
   "cell_type": "code",
   "execution_count": 13,
   "metadata": {},
   "outputs": [
    {
     "name": "stdout",
     "output_type": "stream",
     "text": [
      "0.579817942343877\n",
      "0.5798179423438782\n"
     ]
    }
   ],
   "source": [
    "# Little endian is required here\n",
    "state = statevector_from_config([1,1,1], little_endian=True)\n",
    "# Expected state:\n",
    "#   big endian: 01 01 01\n",
    "#   little endian: 10 10 10\n",
    "# This is probably a bad example since this bitstring is just flipped.\n",
    "# That's not necessarily true in general.\n",
    "res = (np.transpose(state) @ U_trunc @ state)[0,0]\n",
    "print(np.absolute(res) ** 2)\n",
    "print(output_probability([1,1,1],[1,1,1], U))"
   ]
  },
  {
   "cell_type": "code",
   "execution_count": 31,
   "metadata": {},
   "outputs": [
    {
     "name": "stdout",
     "output_type": "stream",
     "text": [
      "0.890958338541717\n",
      "0.8909583385417211\n"
     ]
    }
   ],
   "source": [
    "# Why does little_endian need to be false here?\n",
    "state = statevector_from_config([3,0,0], little_endian=True)\n",
    "# Expected state:\n",
    "#   big endian: 00 00 11\n",
    "#   little endian: 11 00 00\n",
    "#   Could it be that it's just the blocks that need to be flipped and not the entire state?\n",
    "#   That seems plausible...\n",
    "res = (np.transpose(state) @ U_circ @ state)[0,0]\n",
    "print(np.absolute(res) ** 2)\n",
    "print(output_probability([3,0,0],[3,0,0], U))"
   ]
  },
  {
   "cell_type": "code",
   "execution_count": 15,
   "metadata": {},
   "outputs": [],
   "source": [
    "# DEBUG FUNCTION\n",
    "def statevector_from_string(binrep, little_endian = True, num_photons=None):\n",
    "    if little_endian == True:\n",
    "        binrep = binrep[::-1]\n",
    "    \n",
    "    num_qubits = len(binrep) # number of qubits in circuit\n",
    "    statevector = np.zeros((2 ** num_qubits, 1), dtype=complex)\n",
    "    nonzero_index = int(binrep, 2)\n",
    "    statevector[nonzero_index] = 1.\n",
    "\n",
    "    return statevector"
   ]
  },
  {
   "cell_type": "code",
   "execution_count": 21,
   "metadata": {},
   "outputs": [
    {
     "name": "stdout",
     "output_type": "stream",
     "text": [
      "0.6865576771772024\n",
      "0.6865576771772038\n"
     ]
    }
   ],
   "source": [
    "# Test: flip blocks\n",
    "# dist = [2, 1, 0]\n",
    "# Expected state:\n",
    "#   big endian: 10 01 00\n",
    "#   little endian: 00 10 01 ## This is apparently correct. Another coincidence?\n",
    "#   Block flipping: 01 10 00\n",
    "#   Block flipping little endian: 00 01 10\n",
    "flipped_state = statevector_from_string(\"100100\", little_endian=True)\n",
    "res = (np.transpose(flipped_state) @ U_circ @ flipped_state)[0,0]\n",
    "print(np.absolute(res) ** 2)\n",
    "print(output_probability([2,1,0],[2,1,0], U))"
   ]
  },
  {
   "cell_type": "code",
   "execution_count": 37,
   "metadata": {},
   "outputs": [
    {
     "name": "stdout",
     "output_type": "stream",
     "text": [
      "0.6865576771772024\n",
      "0.6865576771772038\n"
     ]
    }
   ],
   "source": [
    "flipped_state = statevector_from_config([2,1,0])\n",
    "res = (np.transpose(flipped_state) @ U_circ @ flipped_state)[0,0]\n",
    "print(np.absolute(res) ** 2)\n",
    "print(output_probability([2,1,0],[2,1,0], U))"
   ]
  },
  {
   "cell_type": "code",
   "execution_count": 40,
   "metadata": {},
   "outputs": [
    {
     "name": "stdout",
     "output_type": "stream",
     "text": [
      "0.013182569531783414\n",
      "0.01318256953178336\n"
     ]
    }
   ],
   "source": [
    "ket = statevector_from_config([2,1,0])\n",
    "bra = statevector_from_config([1,1,1])\n",
    "res = (np.transpose(bra) @ U_circ @ ket)[0,0]\n",
    "print(np.absolute(res) ** 2)\n",
    "print(output_probability([2,1,0],[1,1,1], U))"
   ]
  },
  {
   "cell_type": "code",
   "execution_count": 27,
   "metadata": {},
   "outputs": [
    {
     "name": "stdout",
     "output_type": "stream",
     "text": [
      "0.817480618336804\n",
      "0.8174806183368121\n"
     ]
    }
   ],
   "source": [
    "# Test 2: flip blocks\n",
    "# dist = [3,0,1]\n",
    "# Expected state:\n",
    "#   big endian: 011 000 001\n",
    "#   little endian: 100 000 110 # Another win for little endian...\n",
    "#   Block flipping: 110 000 100\n",
    "#   Block flipping little endian: 001 000 011\n",
    "\n",
    "flipped_state = statevector_from_string(\"011000001\", little_endian=True)\n",
    "# res = (np.transpose(flipped_state) @ U_circ @ flipped_state)[0,0]\n",
    "# print(np.absolute(res) ** 2)\n",
    "# print(output_probability([3,0,1],[3,0,1], U))\n",
    "# circuit_prob = 0.817480618336804\n",
    "# expected_prob = 0.8174806183368121"
   ]
  },
  {
   "cell_type": "code",
   "execution_count": 35,
   "metadata": {},
   "outputs": [
    {
     "ename": "ValueError",
     "evalue": "matmul: Input operand 1 has a mismatch in its core dimension 0, with gufunc signature (n?,k),(k,m?)->(n?,m?) (size 64 is different from 512)",
     "output_type": "error",
     "traceback": [
      "\u001b[0;31m---------------------------------------------------------------------------\u001b[0m",
      "\u001b[0;31mValueError\u001b[0m                                Traceback (most recent call last)",
      "Cell \u001b[0;32mIn [35], line 9\u001b[0m\n\u001b[1;32m      1\u001b[0m \u001b[38;5;66;03m# Test: flip blocks\u001b[39;00m\n\u001b[1;32m      2\u001b[0m \u001b[38;5;66;03m# dist = [2, 1, 0]\u001b[39;00m\n\u001b[1;32m      3\u001b[0m \u001b[38;5;66;03m# Expected state:\u001b[39;00m\n\u001b[0;32m   (...)\u001b[0m\n\u001b[1;32m      6\u001b[0m \u001b[38;5;66;03m#   Block flipping: 01 10 00\u001b[39;00m\n\u001b[1;32m      7\u001b[0m \u001b[38;5;66;03m#   Block flipping little endian: 00 01 10\u001b[39;00m\n\u001b[1;32m      8\u001b[0m state \u001b[38;5;241m=\u001b[39m statevector_from_string(\u001b[38;5;124m\"\u001b[39m\u001b[38;5;124m100100\u001b[39m\u001b[38;5;124m\"\u001b[39m, little_endian\u001b[38;5;241m=\u001b[39m\u001b[38;5;28;01mTrue\u001b[39;00m)\n\u001b[0;32m----> 9\u001b[0m res \u001b[38;5;241m=\u001b[39m (\u001b[43mnp\u001b[49m\u001b[38;5;241;43m.\u001b[39;49m\u001b[43mtranspose\u001b[49m\u001b[43m(\u001b[49m\u001b[43mflipped_state\u001b[49m\u001b[43m)\u001b[49m\u001b[43m \u001b[49m\u001b[38;5;241;43m@\u001b[39;49m\u001b[43m \u001b[49m\u001b[43mU_circ\u001b[49m \u001b[38;5;241m@\u001b[39m flipped_state)[\u001b[38;5;241m0\u001b[39m,\u001b[38;5;241m0\u001b[39m]\n\u001b[1;32m     10\u001b[0m \u001b[38;5;28mprint\u001b[39m(np\u001b[38;5;241m.\u001b[39mabsolute(res) \u001b[38;5;241m*\u001b[39m\u001b[38;5;241m*\u001b[39m \u001b[38;5;241m2\u001b[39m)\n\u001b[1;32m     11\u001b[0m \u001b[38;5;28mprint\u001b[39m(output_probability([\u001b[38;5;241m2\u001b[39m,\u001b[38;5;241m1\u001b[39m,\u001b[38;5;241m0\u001b[39m],[\u001b[38;5;241m2\u001b[39m,\u001b[38;5;241m1\u001b[39m,\u001b[38;5;241m0\u001b[39m], U))\n",
      "\u001b[0;31mValueError\u001b[0m: matmul: Input operand 1 has a mismatch in its core dimension 0, with gufunc signature (n?,k),(k,m?)->(n?,m?) (size 64 is different from 512)"
     ]
    }
   ],
   "source": [
    "# Test: flip blocks\n",
    "# dist = [2, 1, 0]\n",
    "# Expected state:\n",
    "#   big endian: 10 01 00\n",
    "#   little endian: 00 10 01 ## This is apparently correct. Another coincidence?\n",
    "#   Block flipping: 01 10 00\n",
    "#   Block flipping little endian: 00 01 10\n",
    "state = statevector_from_string(\"100100\", num_photons = little_endian=True)\n",
    "res = (np.transpose(flipped_state) @ U_circ @ flipped_state)[0,0]\n",
    "print(np.absolute(res) ** 2)\n",
    "print(output_probability([2,1,0],[2,1,0], U))"
   ]
  },
  {
   "cell_type": "code",
   "execution_count": 372,
   "metadata": {},
   "outputs": [
    {
     "name": "stdout",
     "output_type": "stream",
     "text": [
      "40\n",
      "0.6528936318323927\n"
     ]
    }
   ],
   "source": [
    "# Hacky way to try and figure out what statevector should actually be\n",
    "state = statevector_from_config([0,1,1], little_endian=True)\n",
    "\n",
    "for idx in range(64):\n",
    "    state = np.zeros((64,1), complex)\n",
    "    state[idx] = 1.0\n",
    "    res = (np.transpose(state) @ U_circ @ state)[0,0]\n",
    "    if (np.isclose(0.6528936318323931, np.absolute(res) ** 2)):\n",
    "        print(idx)\n",
    "        print(np.absolute(res) ** 2)\n"
   ]
  },
  {
   "cell_type": "code",
   "execution_count": 375,
   "metadata": {},
   "outputs": [
    {
     "data": {
      "text/plain": [
       "101000"
      ]
     },
     "execution_count": 375,
     "metadata": {},
     "output_type": "execute_result"
    }
   ],
   "source": [
    "bin(40)\n",
    "101000"
   ]
  },
  {
   "cell_type": "code",
   "execution_count": 374,
   "metadata": {},
   "outputs": [
    {
     "name": "stdout",
     "output_type": "stream",
     "text": [
      "42\n",
      "0.5798179423438768\n"
     ]
    }
   ],
   "source": [
    "# Hacky way to try and figure out what statevector should actually be\n",
    "state = statevector_from_config([1,1,1], little_endian=True)\n",
    "\n",
    "for idx in range(64):\n",
    "    state = np.zeros((64,1), complex)\n",
    "    state[idx] = 1.0\n",
    "    res = (np.transpose(state) @ U_circ @ state)[0,0]\n",
    "    if (np.isclose(0.5798179423438768, np.absolute(res) ** 2)):\n",
    "        print(idx)\n",
    "        print(np.absolute(res) ** 2)\n"
   ]
  },
  {
   "cell_type": "code",
   "execution_count": 376,
   "metadata": {},
   "outputs": [
    {
     "data": {
      "text/plain": [
       "'0b101010'"
      ]
     },
     "execution_count": 376,
     "metadata": {},
     "output_type": "execute_result"
    }
   ],
   "source": [
    "bin(42)"
   ]
  },
  {
   "cell_type": "code",
   "execution_count": 347,
   "metadata": {},
   "outputs": [
    {
     "data": {
      "text/plain": [
       "'0b101000'"
      ]
     },
     "execution_count": 347,
     "metadata": {},
     "output_type": "execute_result"
    }
   ],
   "source": []
  },
  {
   "cell_type": "code",
   "execution_count": 350,
   "metadata": {},
   "outputs": [
    {
     "data": {
      "text/plain": [
       "'010'"
      ]
     },
     "execution_count": 350,
     "metadata": {},
     "output_type": "execute_result"
    }
   ],
   "source": [
    "dist_to_state([0,1,0])"
   ]
  },
  {
   "cell_type": "code",
   "execution_count": 315,
   "metadata": {},
   "outputs": [
    {
     "data": {
      "text/plain": [
       "0.6528936318323931"
      ]
     },
     "execution_count": 315,
     "metadata": {},
     "output_type": "execute_result"
    }
   ],
   "source": [
    "output_probability([0,1,1],[0,1,1], U)"
   ]
  },
  {
   "cell_type": "code",
   "execution_count": 352,
   "metadata": {},
   "outputs": [],
   "source": [
    "flipped_U = Operator(U).reverse_qargs().data"
   ]
  }
 ],
 "metadata": {
  "kernelspec": {
   "display_name": "graph_env",
   "language": "python",
   "name": "python3"
  },
  "language_info": {
   "codemirror_mode": {
    "name": "ipython",
    "version": 3
   },
   "file_extension": ".py",
   "mimetype": "text/x-python",
   "name": "python",
   "nbconvert_exporter": "python",
   "pygments_lexer": "ipython3",
   "version": "3.10.14"
  }
 },
 "nbformat": 4,
 "nbformat_minor": 2
}
